{
 "cells": [
  {
   "cell_type": "markdown",
   "metadata": {},
   "source": [
    "## From Amazon to Netflix, what makes a great recommendation?"
   ]
  },
  {
   "cell_type": "markdown",
   "metadata": {},
   "source": [
    "### Capstone Project\n",
    "\n",
    "### Bill Zhang"
   ]
  },
  {
   "cell_type": "markdown",
   "metadata": {},
   "source": [
    "----------"
   ]
  },
  {
   "cell_type": "markdown",
   "metadata": {},
   "source": [
    "### Introduction"
   ]
  },
  {
   "cell_type": "markdown",
   "metadata": {},
   "source": [
    "Recommender system is one of the most popular topics in data science nowadays. Industry leaders in recommender system, such as Amazon and Netflix, have spent years R&D and benefit from it siginificantly. Taking Amazon for example, recommender system is credited for 35% of total revenues and 29% growth in sales. And for Netflix, up to 75% of content viewed comes from its recommender system and this system saves 1 billion marketing cost each year. \n",
    "\n",
    "*Source: https://sigmoidal.io/recommender-systems-recommendation-engine/*"
   ]
  },
  {
   "cell_type": "markdown",
   "metadata": {},
   "source": [
    "Therefore, the potential and benefit of implementing a good recommender system is enourmos. For this capstone project, following commonly used models for recommender system will be used to see how to makes a good recommender system. "
   ]
  },
  {
   "cell_type": "markdown",
   "metadata": {},
   "source": [
    "- Popularity model\n",
    "- Content-based model\n",
    "- Collaborative model\n",
    "- Hybrid model\n",
    "- Convolutional Neural Network"
   ]
  },
  {
   "cell_type": "markdown",
   "metadata": {},
   "source": [
    "### Data"
   ]
  },
  {
   "cell_type": "markdown",
   "metadata": {},
   "source": [
    "**“Articles sharing and reading from CI&T DeskDrop”** from Kaggle\n",
    "\n",
    "*Source: https://www.kaggle.com/gspmoreira/articles-sharing-reading-from-cit-deskdrop*"
   ]
  },
  {
   "cell_type": "markdown",
   "metadata": {},
   "source": [
    "#### Dataset: \n",
    "\n",
    "**The dataset contains two csv file. **\n",
    "\n",
    "- **shared_articles.csv (df_article)**: Articles shared on the platform including content Id, author Id, title, description and language. \n",
    "\n",
    "- **users_interactions.csv (df_user)**: logs of all the interaction from registered uses including content id, user id and 5 different types of reaction (view, like, bookmarked, commented and follow) "
   ]
  },
  {
   "cell_type": "markdown",
   "metadata": {},
   "source": [
    "### Install Libraries"
   ]
  },
  {
   "cell_type": "markdown",
   "metadata": {},
   "source": [
    "In order to run the model, following two extra libraries need to be installed "
   ]
  },
  {
   "cell_type": "markdown",
   "metadata": {},
   "source": [
    "**Wordcloud**\n",
    "\n",
    "-pip install wordcloud"
   ]
  },
  {
   "cell_type": "markdown",
   "metadata": {},
   "source": [
    "**Surprise**\n",
    "\n",
    "-pip install scikit-surprise"
   ]
  },
  {
   "cell_type": "markdown",
   "metadata": {},
   "source": [
    "---------"
   ]
  },
  {
   "cell_type": "markdown",
   "metadata": {},
   "source": [
    "### Preprocessing"
   ]
  },
  {
   "cell_type": "markdown",
   "metadata": {},
   "source": [
    "First load necessary libraries and data to see what clean up need to be done."
   ]
  },
  {
   "cell_type": "code",
   "execution_count": 1,
   "metadata": {},
   "outputs": [],
   "source": [
    "import numpy as np\n",
    "import pandas as pd\n",
    "import random\n",
    "import sklearn\n",
    "from nltk.corpus import stopwords\n",
    "from sklearn.model_selection import train_test_split\n",
    "import matplotlib.pyplot as plt\n",
    "%matplotlib inline\n",
    "import warnings\n",
    "warnings.filterwarnings(\"ignore\")"
   ]
  },
  {
   "cell_type": "code",
   "execution_count": 2,
   "metadata": {},
   "outputs": [],
   "source": [
    "## load data\n",
    "\n",
    "df_article=pd.read_csv('shared_articles.csv')\n",
    "df_user=pd.read_csv('users_interactions.csv')"
   ]
  },
  {
   "cell_type": "markdown",
   "metadata": {},
   "source": [
    "### Article data"
   ]
  },
  {
   "cell_type": "code",
   "execution_count": 3,
   "metadata": {},
   "outputs": [
    {
     "data": {
      "text/html": [
       "<div>\n",
       "<style scoped>\n",
       "    .dataframe tbody tr th:only-of-type {\n",
       "        vertical-align: middle;\n",
       "    }\n",
       "\n",
       "    .dataframe tbody tr th {\n",
       "        vertical-align: top;\n",
       "    }\n",
       "\n",
       "    .dataframe thead th {\n",
       "        text-align: right;\n",
       "    }\n",
       "</style>\n",
       "<table border=\"1\" class=\"dataframe\">\n",
       "  <thead>\n",
       "    <tr style=\"text-align: right;\">\n",
       "      <th></th>\n",
       "      <th>timestamp</th>\n",
       "      <th>eventType</th>\n",
       "      <th>contentId</th>\n",
       "      <th>authorPersonId</th>\n",
       "      <th>authorSessionId</th>\n",
       "      <th>authorUserAgent</th>\n",
       "      <th>authorRegion</th>\n",
       "      <th>authorCountry</th>\n",
       "      <th>contentType</th>\n",
       "      <th>url</th>\n",
       "      <th>title</th>\n",
       "      <th>text</th>\n",
       "      <th>lang</th>\n",
       "    </tr>\n",
       "  </thead>\n",
       "  <tbody>\n",
       "    <tr>\n",
       "      <th>0</th>\n",
       "      <td>1459192779</td>\n",
       "      <td>CONTENT REMOVED</td>\n",
       "      <td>-6451309518266745024</td>\n",
       "      <td>4340306774493623681</td>\n",
       "      <td>8940341205206233829</td>\n",
       "      <td>NaN</td>\n",
       "      <td>NaN</td>\n",
       "      <td>NaN</td>\n",
       "      <td>HTML</td>\n",
       "      <td>http://www.nytimes.com/2016/03/28/business/dea...</td>\n",
       "      <td>Ethereum, a Virtual Currency, Enables Transact...</td>\n",
       "      <td>All of this work is still very early. The firs...</td>\n",
       "      <td>en</td>\n",
       "    </tr>\n",
       "    <tr>\n",
       "      <th>1</th>\n",
       "      <td>1459193988</td>\n",
       "      <td>CONTENT SHARED</td>\n",
       "      <td>-4110354420726924665</td>\n",
       "      <td>4340306774493623681</td>\n",
       "      <td>8940341205206233829</td>\n",
       "      <td>NaN</td>\n",
       "      <td>NaN</td>\n",
       "      <td>NaN</td>\n",
       "      <td>HTML</td>\n",
       "      <td>http://www.nytimes.com/2016/03/28/business/dea...</td>\n",
       "      <td>Ethereum, a Virtual Currency, Enables Transact...</td>\n",
       "      <td>All of this work is still very early. The firs...</td>\n",
       "      <td>en</td>\n",
       "    </tr>\n",
       "    <tr>\n",
       "      <th>2</th>\n",
       "      <td>1459194146</td>\n",
       "      <td>CONTENT SHARED</td>\n",
       "      <td>-7292285110016212249</td>\n",
       "      <td>4340306774493623681</td>\n",
       "      <td>8940341205206233829</td>\n",
       "      <td>NaN</td>\n",
       "      <td>NaN</td>\n",
       "      <td>NaN</td>\n",
       "      <td>HTML</td>\n",
       "      <td>http://cointelegraph.com/news/bitcoin-future-w...</td>\n",
       "      <td>Bitcoin Future: When GBPcoin of Branson Wins O...</td>\n",
       "      <td>The alarm clock wakes me at 8:00 with stream o...</td>\n",
       "      <td>en</td>\n",
       "    </tr>\n",
       "    <tr>\n",
       "      <th>3</th>\n",
       "      <td>1459194474</td>\n",
       "      <td>CONTENT SHARED</td>\n",
       "      <td>-6151852268067518688</td>\n",
       "      <td>3891637997717104548</td>\n",
       "      <td>-1457532940883382585</td>\n",
       "      <td>NaN</td>\n",
       "      <td>NaN</td>\n",
       "      <td>NaN</td>\n",
       "      <td>HTML</td>\n",
       "      <td>https://cloudplatform.googleblog.com/2016/03/G...</td>\n",
       "      <td>Google Data Center 360° Tour</td>\n",
       "      <td>We're excited to share the Google Data Center ...</td>\n",
       "      <td>en</td>\n",
       "    </tr>\n",
       "    <tr>\n",
       "      <th>4</th>\n",
       "      <td>1459194497</td>\n",
       "      <td>CONTENT SHARED</td>\n",
       "      <td>2448026894306402386</td>\n",
       "      <td>4340306774493623681</td>\n",
       "      <td>8940341205206233829</td>\n",
       "      <td>NaN</td>\n",
       "      <td>NaN</td>\n",
       "      <td>NaN</td>\n",
       "      <td>HTML</td>\n",
       "      <td>https://bitcoinmagazine.com/articles/ibm-wants...</td>\n",
       "      <td>IBM Wants to \"Evolve the Internet\" With Blockc...</td>\n",
       "      <td>The Aite Group projects the blockchain market ...</td>\n",
       "      <td>en</td>\n",
       "    </tr>\n",
       "  </tbody>\n",
       "</table>\n",
       "</div>"
      ],
      "text/plain": [
       "    timestamp        eventType            contentId       authorPersonId  \\\n",
       "0  1459192779  CONTENT REMOVED -6451309518266745024  4340306774493623681   \n",
       "1  1459193988   CONTENT SHARED -4110354420726924665  4340306774493623681   \n",
       "2  1459194146   CONTENT SHARED -7292285110016212249  4340306774493623681   \n",
       "3  1459194474   CONTENT SHARED -6151852268067518688  3891637997717104548   \n",
       "4  1459194497   CONTENT SHARED  2448026894306402386  4340306774493623681   \n",
       "\n",
       "       authorSessionId authorUserAgent authorRegion authorCountry contentType  \\\n",
       "0  8940341205206233829             NaN          NaN           NaN        HTML   \n",
       "1  8940341205206233829             NaN          NaN           NaN        HTML   \n",
       "2  8940341205206233829             NaN          NaN           NaN        HTML   \n",
       "3 -1457532940883382585             NaN          NaN           NaN        HTML   \n",
       "4  8940341205206233829             NaN          NaN           NaN        HTML   \n",
       "\n",
       "                                                 url  \\\n",
       "0  http://www.nytimes.com/2016/03/28/business/dea...   \n",
       "1  http://www.nytimes.com/2016/03/28/business/dea...   \n",
       "2  http://cointelegraph.com/news/bitcoin-future-w...   \n",
       "3  https://cloudplatform.googleblog.com/2016/03/G...   \n",
       "4  https://bitcoinmagazine.com/articles/ibm-wants...   \n",
       "\n",
       "                                               title  \\\n",
       "0  Ethereum, a Virtual Currency, Enables Transact...   \n",
       "1  Ethereum, a Virtual Currency, Enables Transact...   \n",
       "2  Bitcoin Future: When GBPcoin of Branson Wins O...   \n",
       "3                       Google Data Center 360° Tour   \n",
       "4  IBM Wants to \"Evolve the Internet\" With Blockc...   \n",
       "\n",
       "                                                text lang  \n",
       "0  All of this work is still very early. The firs...   en  \n",
       "1  All of this work is still very early. The firs...   en  \n",
       "2  The alarm clock wakes me at 8:00 with stream o...   en  \n",
       "3  We're excited to share the Google Data Center ...   en  \n",
       "4  The Aite Group projects the blockchain market ...   en  "
      ]
     },
     "execution_count": 3,
     "metadata": {},
     "output_type": "execute_result"
    }
   ],
   "source": [
    "df_article.head()"
   ]
  },
  {
   "cell_type": "markdown",
   "metadata": {},
   "source": [
    "Check the shape and see if there is null value in df_article"
   ]
  },
  {
   "cell_type": "code",
   "execution_count": 5,
   "metadata": {},
   "outputs": [
    {
     "name": "stdout",
     "output_type": "stream",
     "text": [
      "(3122, 13)\n"
     ]
    },
    {
     "data": {
      "text/plain": [
       "timestamp             0\n",
       "eventType             0\n",
       "contentId             0\n",
       "authorPersonId        0\n",
       "authorSessionId       0\n",
       "authorUserAgent    2442\n",
       "authorRegion       2442\n",
       "authorCountry      2442\n",
       "contentType           0\n",
       "url                   0\n",
       "title                 0\n",
       "text                  0\n",
       "lang                  0\n",
       "dtype: int64"
      ]
     },
     "execution_count": 5,
     "metadata": {},
     "output_type": "execute_result"
    }
   ],
   "source": [
    "print(df_article.shape)\n",
    "df_article.isnull().sum()"
   ]
  },
  {
   "cell_type": "markdown",
   "metadata": {},
   "source": [
    "Notice that for authorUserAgent, authorRegion and authorCountry, the number of null value has exceeded more than half of the data. Therefore, they are not very helpful to our models and we can drop them. "
   ]
  },
  {
   "cell_type": "code",
   "execution_count": 6,
   "metadata": {},
   "outputs": [],
   "source": [
    "df_article=df_article.drop(['authorUserAgent','authorRegion','authorCountry'], axis=1)"
   ]
  },
  {
   "cell_type": "markdown",
   "metadata": {},
   "source": [
    "Also, there is a column named \"eventType\" and we count its unique values"
   ]
  },
  {
   "cell_type": "code",
   "execution_count": 7,
   "metadata": {},
   "outputs": [
    {
     "data": {
      "text/plain": [
       "CONTENT SHARED     3047\n",
       "CONTENT REMOVED      75\n",
       "Name: eventType, dtype: int64"
      ]
     },
     "execution_count": 7,
     "metadata": {},
     "output_type": "execute_result"
    }
   ],
   "source": [
    "df_article['eventType'].value_counts()"
   ]
  },
  {
   "cell_type": "markdown",
   "metadata": {},
   "source": [
    "Here we only consider the articles are still available to our users"
   ]
  },
  {
   "cell_type": "code",
   "execution_count": 8,
   "metadata": {},
   "outputs": [],
   "source": [
    "df_article=df_article[df_article['eventType']=='CONTENT SHARED']"
   ]
  },
  {
   "cell_type": "markdown",
   "metadata": {},
   "source": [
    "We also count the unique value of 'lang'"
   ]
  },
  {
   "cell_type": "code",
   "execution_count": 231,
   "metadata": {},
   "outputs": [
    {
     "data": {
      "text/html": [
       "<div>\n",
       "<style scoped>\n",
       "    .dataframe tbody tr th:only-of-type {\n",
       "        vertical-align: middle;\n",
       "    }\n",
       "\n",
       "    .dataframe tbody tr th {\n",
       "        vertical-align: top;\n",
       "    }\n",
       "\n",
       "    .dataframe thead th {\n",
       "        text-align: right;\n",
       "    }\n",
       "</style>\n",
       "<table border=\"1\" class=\"dataframe\">\n",
       "  <thead>\n",
       "    <tr style=\"text-align: right;\">\n",
       "      <th></th>\n",
       "      <th>timestamp</th>\n",
       "      <th>eventType</th>\n",
       "      <th>contentId</th>\n",
       "      <th>authorPersonId</th>\n",
       "      <th>authorSessionId</th>\n",
       "      <th>title</th>\n",
       "      <th>text</th>\n",
       "    </tr>\n",
       "    <tr>\n",
       "      <th>lang</th>\n",
       "      <th></th>\n",
       "      <th></th>\n",
       "      <th></th>\n",
       "      <th></th>\n",
       "      <th></th>\n",
       "      <th></th>\n",
       "      <th></th>\n",
       "    </tr>\n",
       "  </thead>\n",
       "  <tbody>\n",
       "    <tr>\n",
       "      <th>en</th>\n",
       "      <td>2211</td>\n",
       "      <td>2211</td>\n",
       "      <td>2211</td>\n",
       "      <td>2211</td>\n",
       "      <td>2211</td>\n",
       "      <td>2211</td>\n",
       "      <td>2211</td>\n",
       "    </tr>\n",
       "    <tr>\n",
       "      <th>es</th>\n",
       "      <td>2</td>\n",
       "      <td>2</td>\n",
       "      <td>2</td>\n",
       "      <td>2</td>\n",
       "      <td>2</td>\n",
       "      <td>2</td>\n",
       "      <td>2</td>\n",
       "    </tr>\n",
       "    <tr>\n",
       "      <th>ja</th>\n",
       "      <td>2</td>\n",
       "      <td>2</td>\n",
       "      <td>2</td>\n",
       "      <td>2</td>\n",
       "      <td>2</td>\n",
       "      <td>2</td>\n",
       "      <td>2</td>\n",
       "    </tr>\n",
       "    <tr>\n",
       "      <th>la</th>\n",
       "      <td>3</td>\n",
       "      <td>3</td>\n",
       "      <td>3</td>\n",
       "      <td>3</td>\n",
       "      <td>3</td>\n",
       "      <td>3</td>\n",
       "      <td>3</td>\n",
       "    </tr>\n",
       "    <tr>\n",
       "      <th>pt</th>\n",
       "      <td>829</td>\n",
       "      <td>829</td>\n",
       "      <td>829</td>\n",
       "      <td>829</td>\n",
       "      <td>829</td>\n",
       "      <td>829</td>\n",
       "      <td>829</td>\n",
       "    </tr>\n",
       "  </tbody>\n",
       "</table>\n",
       "</div>"
      ],
      "text/plain": [
       "      timestamp  eventType  contentId  authorPersonId  authorSessionId  title  \\\n",
       "lang                                                                            \n",
       "en         2211       2211       2211            2211             2211   2211   \n",
       "es            2          2          2               2                2      2   \n",
       "ja            2          2          2               2                2      2   \n",
       "la            3          3          3               3                3      3   \n",
       "pt          829        829        829             829              829    829   \n",
       "\n",
       "      text  \n",
       "lang        \n",
       "en    2211  \n",
       "es       2  \n",
       "ja       2  \n",
       "la       3  \n",
       "pt     829  "
      ]
     },
     "execution_count": 231,
     "metadata": {},
     "output_type": "execute_result"
    }
   ],
   "source": [
    "df_article.groupby(['lang']).count()"
   ]
  },
  {
   "cell_type": "markdown",
   "metadata": {},
   "source": [
    "For simplicity, we only consider the articles that are written in English"
   ]
  },
  {
   "cell_type": "code",
   "execution_count": 10,
   "metadata": {},
   "outputs": [],
   "source": [
    "df_article=df_article[df_article['lang']=='en']"
   ]
  },
  {
   "cell_type": "code",
   "execution_count": 12,
   "metadata": {},
   "outputs": [
    {
     "data": {
      "text/plain": [
       "timestamp          0\n",
       "eventType          0\n",
       "contentId          0\n",
       "authorPersonId     0\n",
       "authorSessionId    0\n",
       "title              0\n",
       "text               0\n",
       "lang               0\n",
       "dtype: int64"
      ]
     },
     "execution_count": 12,
     "metadata": {},
     "output_type": "execute_result"
    }
   ],
   "source": [
    "## check if there is null value after cleaning\n",
    "\n",
    "df_article.isnull().sum()"
   ]
  },
  {
   "cell_type": "code",
   "execution_count": 11,
   "metadata": {},
   "outputs": [
    {
     "data": {
      "text/html": [
       "<div>\n",
       "<style scoped>\n",
       "    .dataframe tbody tr th:only-of-type {\n",
       "        vertical-align: middle;\n",
       "    }\n",
       "\n",
       "    .dataframe tbody tr th {\n",
       "        vertical-align: top;\n",
       "    }\n",
       "\n",
       "    .dataframe thead th {\n",
       "        text-align: right;\n",
       "    }\n",
       "</style>\n",
       "<table border=\"1\" class=\"dataframe\">\n",
       "  <thead>\n",
       "    <tr style=\"text-align: right;\">\n",
       "      <th></th>\n",
       "      <th>timestamp</th>\n",
       "      <th>eventType</th>\n",
       "      <th>contentId</th>\n",
       "      <th>authorPersonId</th>\n",
       "      <th>authorSessionId</th>\n",
       "      <th>title</th>\n",
       "      <th>text</th>\n",
       "      <th>lang</th>\n",
       "    </tr>\n",
       "  </thead>\n",
       "  <tbody>\n",
       "    <tr>\n",
       "      <th>1</th>\n",
       "      <td>1459193988</td>\n",
       "      <td>CONTENT SHARED</td>\n",
       "      <td>-4110354420726924665</td>\n",
       "      <td>4340306774493623681</td>\n",
       "      <td>8940341205206233829</td>\n",
       "      <td>Ethereum, a Virtual Currency, Enables Transact...</td>\n",
       "      <td>All of this work is still very early. The firs...</td>\n",
       "      <td>en</td>\n",
       "    </tr>\n",
       "    <tr>\n",
       "      <th>2</th>\n",
       "      <td>1459194146</td>\n",
       "      <td>CONTENT SHARED</td>\n",
       "      <td>-7292285110016212249</td>\n",
       "      <td>4340306774493623681</td>\n",
       "      <td>8940341205206233829</td>\n",
       "      <td>Bitcoin Future: When GBPcoin of Branson Wins O...</td>\n",
       "      <td>The alarm clock wakes me at 8:00 with stream o...</td>\n",
       "      <td>en</td>\n",
       "    </tr>\n",
       "    <tr>\n",
       "      <th>3</th>\n",
       "      <td>1459194474</td>\n",
       "      <td>CONTENT SHARED</td>\n",
       "      <td>-6151852268067518688</td>\n",
       "      <td>3891637997717104548</td>\n",
       "      <td>-1457532940883382585</td>\n",
       "      <td>Google Data Center 360° Tour</td>\n",
       "      <td>We're excited to share the Google Data Center ...</td>\n",
       "      <td>en</td>\n",
       "    </tr>\n",
       "    <tr>\n",
       "      <th>4</th>\n",
       "      <td>1459194497</td>\n",
       "      <td>CONTENT SHARED</td>\n",
       "      <td>2448026894306402386</td>\n",
       "      <td>4340306774493623681</td>\n",
       "      <td>8940341205206233829</td>\n",
       "      <td>IBM Wants to \"Evolve the Internet\" With Blockc...</td>\n",
       "      <td>The Aite Group projects the blockchain market ...</td>\n",
       "      <td>en</td>\n",
       "    </tr>\n",
       "    <tr>\n",
       "      <th>5</th>\n",
       "      <td>1459194522</td>\n",
       "      <td>CONTENT SHARED</td>\n",
       "      <td>-2826566343807132236</td>\n",
       "      <td>4340306774493623681</td>\n",
       "      <td>8940341205206233829</td>\n",
       "      <td>IEEE to Talk Blockchain at Cloud Computing Oxf...</td>\n",
       "      <td>One of the largest and oldest organizations fo...</td>\n",
       "      <td>en</td>\n",
       "    </tr>\n",
       "  </tbody>\n",
       "</table>\n",
       "</div>"
      ],
      "text/plain": [
       "    timestamp       eventType            contentId       authorPersonId  \\\n",
       "1  1459193988  CONTENT SHARED -4110354420726924665  4340306774493623681   \n",
       "2  1459194146  CONTENT SHARED -7292285110016212249  4340306774493623681   \n",
       "3  1459194474  CONTENT SHARED -6151852268067518688  3891637997717104548   \n",
       "4  1459194497  CONTENT SHARED  2448026894306402386  4340306774493623681   \n",
       "5  1459194522  CONTENT SHARED -2826566343807132236  4340306774493623681   \n",
       "\n",
       "       authorSessionId                                              title  \\\n",
       "1  8940341205206233829  Ethereum, a Virtual Currency, Enables Transact...   \n",
       "2  8940341205206233829  Bitcoin Future: When GBPcoin of Branson Wins O...   \n",
       "3 -1457532940883382585                       Google Data Center 360° Tour   \n",
       "4  8940341205206233829  IBM Wants to \"Evolve the Internet\" With Blockc...   \n",
       "5  8940341205206233829  IEEE to Talk Blockchain at Cloud Computing Oxf...   \n",
       "\n",
       "                                                text lang  \n",
       "1  All of this work is still very early. The firs...   en  \n",
       "2  The alarm clock wakes me at 8:00 with stream o...   en  \n",
       "3  We're excited to share the Google Data Center ...   en  \n",
       "4  The Aite Group projects the blockchain market ...   en  \n",
       "5  One of the largest and oldest organizations fo...   en  "
      ]
     },
     "execution_count": 11,
     "metadata": {},
     "output_type": "execute_result"
    }
   ],
   "source": [
    "df_article.head()"
   ]
  },
  {
   "cell_type": "markdown",
   "metadata": {},
   "source": [
    "### User Data"
   ]
  },
  {
   "cell_type": "code",
   "execution_count": 13,
   "metadata": {},
   "outputs": [
    {
     "data": {
      "text/html": [
       "<div>\n",
       "<style scoped>\n",
       "    .dataframe tbody tr th:only-of-type {\n",
       "        vertical-align: middle;\n",
       "    }\n",
       "\n",
       "    .dataframe tbody tr th {\n",
       "        vertical-align: top;\n",
       "    }\n",
       "\n",
       "    .dataframe thead th {\n",
       "        text-align: right;\n",
       "    }\n",
       "</style>\n",
       "<table border=\"1\" class=\"dataframe\">\n",
       "  <thead>\n",
       "    <tr style=\"text-align: right;\">\n",
       "      <th></th>\n",
       "      <th>timestamp</th>\n",
       "      <th>eventType</th>\n",
       "      <th>contentId</th>\n",
       "      <th>personId</th>\n",
       "      <th>sessionId</th>\n",
       "      <th>userAgent</th>\n",
       "      <th>userRegion</th>\n",
       "      <th>userCountry</th>\n",
       "    </tr>\n",
       "  </thead>\n",
       "  <tbody>\n",
       "    <tr>\n",
       "      <th>0</th>\n",
       "      <td>1465413032</td>\n",
       "      <td>VIEW</td>\n",
       "      <td>-3499919498720038879</td>\n",
       "      <td>-8845298781299428018</td>\n",
       "      <td>1264196770339959068</td>\n",
       "      <td>NaN</td>\n",
       "      <td>NaN</td>\n",
       "      <td>NaN</td>\n",
       "    </tr>\n",
       "    <tr>\n",
       "      <th>1</th>\n",
       "      <td>1465412560</td>\n",
       "      <td>VIEW</td>\n",
       "      <td>8890720798209849691</td>\n",
       "      <td>-1032019229384696495</td>\n",
       "      <td>3621737643587579081</td>\n",
       "      <td>Mozilla/5.0 (Macintosh; Intel Mac OS X 10_11_2...</td>\n",
       "      <td>NY</td>\n",
       "      <td>US</td>\n",
       "    </tr>\n",
       "    <tr>\n",
       "      <th>2</th>\n",
       "      <td>1465416190</td>\n",
       "      <td>VIEW</td>\n",
       "      <td>310515487419366995</td>\n",
       "      <td>-1130272294246983140</td>\n",
       "      <td>2631864456530402479</td>\n",
       "      <td>NaN</td>\n",
       "      <td>NaN</td>\n",
       "      <td>NaN</td>\n",
       "    </tr>\n",
       "    <tr>\n",
       "      <th>3</th>\n",
       "      <td>1465413895</td>\n",
       "      <td>FOLLOW</td>\n",
       "      <td>310515487419366995</td>\n",
       "      <td>344280948527967603</td>\n",
       "      <td>-3167637573980064150</td>\n",
       "      <td>NaN</td>\n",
       "      <td>NaN</td>\n",
       "      <td>NaN</td>\n",
       "    </tr>\n",
       "    <tr>\n",
       "      <th>4</th>\n",
       "      <td>1465412290</td>\n",
       "      <td>VIEW</td>\n",
       "      <td>-7820640624231356730</td>\n",
       "      <td>-445337111692715325</td>\n",
       "      <td>5611481178424124714</td>\n",
       "      <td>NaN</td>\n",
       "      <td>NaN</td>\n",
       "      <td>NaN</td>\n",
       "    </tr>\n",
       "  </tbody>\n",
       "</table>\n",
       "</div>"
      ],
      "text/plain": [
       "    timestamp eventType            contentId             personId  \\\n",
       "0  1465413032      VIEW -3499919498720038879 -8845298781299428018   \n",
       "1  1465412560      VIEW  8890720798209849691 -1032019229384696495   \n",
       "2  1465416190      VIEW   310515487419366995 -1130272294246983140   \n",
       "3  1465413895    FOLLOW   310515487419366995   344280948527967603   \n",
       "4  1465412290      VIEW -7820640624231356730  -445337111692715325   \n",
       "\n",
       "             sessionId                                          userAgent  \\\n",
       "0  1264196770339959068                                                NaN   \n",
       "1  3621737643587579081  Mozilla/5.0 (Macintosh; Intel Mac OS X 10_11_2...   \n",
       "2  2631864456530402479                                                NaN   \n",
       "3 -3167637573980064150                                                NaN   \n",
       "4  5611481178424124714                                                NaN   \n",
       "\n",
       "  userRegion userCountry  \n",
       "0        NaN         NaN  \n",
       "1         NY          US  \n",
       "2        NaN         NaN  \n",
       "3        NaN         NaN  \n",
       "4        NaN         NaN  "
      ]
     },
     "execution_count": 13,
     "metadata": {},
     "output_type": "execute_result"
    }
   ],
   "source": [
    "df_user.head()"
   ]
  },
  {
   "cell_type": "markdown",
   "metadata": {},
   "source": [
    "Check the shape and see if there is null value in df_user"
   ]
  },
  {
   "cell_type": "code",
   "execution_count": 14,
   "metadata": {},
   "outputs": [
    {
     "name": "stdout",
     "output_type": "stream",
     "text": [
      "(72312, 8)\n"
     ]
    },
    {
     "data": {
      "text/plain": [
       "timestamp          0\n",
       "eventType          0\n",
       "contentId          0\n",
       "personId           0\n",
       "sessionId          0\n",
       "userAgent      15394\n",
       "userRegion     15405\n",
       "userCountry    15394\n",
       "dtype: int64"
      ]
     },
     "execution_count": 14,
     "metadata": {},
     "output_type": "execute_result"
    }
   ],
   "source": [
    "print(df_user.shape)\n",
    "df_user.isnull().sum()"
   ]
  },
  {
   "cell_type": "markdown",
   "metadata": {},
   "source": [
    "Here we simply drop 'userAgent','userRegion' and 'userCountry' since we cannot fill in the null value in this case. "
   ]
  },
  {
   "cell_type": "code",
   "execution_count": 15,
   "metadata": {},
   "outputs": [],
   "source": [
    "df_user=df_user.drop(['userAgent','userRegion','userCountry'], axis=1)"
   ]
  },
  {
   "cell_type": "markdown",
   "metadata": {},
   "source": [
    "### Rating Matrix\n",
    "\n",
    "In order to qualtify our user's interaction so that we can convert the prediction in classification problem, we give each type of interaction with articles a corresponding socre based on it distribution. For rating matrix, we only count once if there are more than one interaction for each type of interaction. Therefore, our rating for each article is range from 1 to 15 (1+2+3+4+5)"
   ]
  },
  {
   "cell_type": "code",
   "execution_count": 16,
   "metadata": {},
   "outputs": [
    {
     "data": {
      "text/plain": [
       "VIEW               61086\n",
       "LIKE                5745\n",
       "BOOKMARK            2463\n",
       "COMMENT CREATED     1611\n",
       "FOLLOW              1407\n",
       "Name: eventType, dtype: int64"
      ]
     },
     "execution_count": 16,
     "metadata": {},
     "output_type": "execute_result"
    }
   ],
   "source": [
    "## interaction distribution\n",
    "\n",
    "df_user['eventType'].value_counts()"
   ]
  },
  {
   "cell_type": "code",
   "execution_count": 17,
   "metadata": {},
   "outputs": [],
   "source": [
    "## give each type of interaction above a score\n",
    "\n",
    "score={'VIEW': 1,\n",
    "       'LIKE': 2,\n",
    "       'BOOKMARK': 3,\n",
    "       'COMMENT CREATED': 4,\n",
    "       'FOLLOW': 5\n",
    "      }"
   ]
  },
  {
   "cell_type": "code",
   "execution_count": 19,
   "metadata": {},
   "outputs": [
    {
     "data": {
      "text/html": [
       "<div>\n",
       "<style scoped>\n",
       "    .dataframe tbody tr th:only-of-type {\n",
       "        vertical-align: middle;\n",
       "    }\n",
       "\n",
       "    .dataframe tbody tr th {\n",
       "        vertical-align: top;\n",
       "    }\n",
       "\n",
       "    .dataframe thead th {\n",
       "        text-align: right;\n",
       "    }\n",
       "</style>\n",
       "<table border=\"1\" class=\"dataframe\">\n",
       "  <thead>\n",
       "    <tr style=\"text-align: right;\">\n",
       "      <th></th>\n",
       "      <th>timestamp</th>\n",
       "      <th>eventType</th>\n",
       "      <th>contentId</th>\n",
       "      <th>personId</th>\n",
       "      <th>sessionId</th>\n",
       "      <th>score</th>\n",
       "    </tr>\n",
       "  </thead>\n",
       "  <tbody>\n",
       "    <tr>\n",
       "      <th>0</th>\n",
       "      <td>1465413032</td>\n",
       "      <td>VIEW</td>\n",
       "      <td>-3499919498720038879</td>\n",
       "      <td>-8845298781299428018</td>\n",
       "      <td>1264196770339959068</td>\n",
       "      <td>1</td>\n",
       "    </tr>\n",
       "    <tr>\n",
       "      <th>1</th>\n",
       "      <td>1465412560</td>\n",
       "      <td>VIEW</td>\n",
       "      <td>8890720798209849691</td>\n",
       "      <td>-1032019229384696495</td>\n",
       "      <td>3621737643587579081</td>\n",
       "      <td>1</td>\n",
       "    </tr>\n",
       "    <tr>\n",
       "      <th>2</th>\n",
       "      <td>1465416190</td>\n",
       "      <td>VIEW</td>\n",
       "      <td>310515487419366995</td>\n",
       "      <td>-1130272294246983140</td>\n",
       "      <td>2631864456530402479</td>\n",
       "      <td>1</td>\n",
       "    </tr>\n",
       "    <tr>\n",
       "      <th>3</th>\n",
       "      <td>1465413895</td>\n",
       "      <td>FOLLOW</td>\n",
       "      <td>310515487419366995</td>\n",
       "      <td>344280948527967603</td>\n",
       "      <td>-3167637573980064150</td>\n",
       "      <td>5</td>\n",
       "    </tr>\n",
       "    <tr>\n",
       "      <th>4</th>\n",
       "      <td>1465412290</td>\n",
       "      <td>VIEW</td>\n",
       "      <td>-7820640624231356730</td>\n",
       "      <td>-445337111692715325</td>\n",
       "      <td>5611481178424124714</td>\n",
       "      <td>1</td>\n",
       "    </tr>\n",
       "  </tbody>\n",
       "</table>\n",
       "</div>"
      ],
      "text/plain": [
       "    timestamp eventType            contentId             personId  \\\n",
       "0  1465413032      VIEW -3499919498720038879 -8845298781299428018   \n",
       "1  1465412560      VIEW  8890720798209849691 -1032019229384696495   \n",
       "2  1465416190      VIEW   310515487419366995 -1130272294246983140   \n",
       "3  1465413895    FOLLOW   310515487419366995   344280948527967603   \n",
       "4  1465412290      VIEW -7820640624231356730  -445337111692715325   \n",
       "\n",
       "             sessionId  score  \n",
       "0  1264196770339959068      1  \n",
       "1  3621737643587579081      1  \n",
       "2  2631864456530402479      1  \n",
       "3 -3167637573980064150      5  \n",
       "4  5611481178424124714      1  "
      ]
     },
     "execution_count": 19,
     "metadata": {},
     "output_type": "execute_result"
    }
   ],
   "source": [
    "## apply this rating matrix for the data\n",
    "\n",
    "df_user['score']=df_user['eventType'].apply(lambda x: score[x])\n",
    "\n",
    "df_user.head()"
   ]
  },
  {
   "cell_type": "markdown",
   "metadata": {},
   "source": [
    "### Feature engineering \n",
    "\n",
    "For the baseline model, we only consider following features for each dataset. New features will be created when we go through each model as we needed. \n",
    "\n",
    "- contentId \n",
    "- personId (user Id)\n",
    "- score (based on rating matrix)\n",
    "- title (article)\n",
    "- text (article)"
   ]
  },
  {
   "cell_type": "markdown",
   "metadata": {},
   "source": [
    "### Combined table\n",
    "\n",
    "After cleaning, combine article and user data into one dataframe with columns above"
   ]
  },
  {
   "cell_type": "code",
   "execution_count": 23,
   "metadata": {},
   "outputs": [],
   "source": [
    "## Create a copy of user data\n",
    "df_joined=df_user.copy()\n",
    "\n",
    "## extract contentId, personId and score from user dataframe \n",
    "df_joined=df_joined[['contentId', 'personId', 'score']]\n",
    "\n",
    "## merge user and article dataframe\n",
    "df_joined=df_joined.merge(df_article, on='contentId')\n",
    "\n",
    "## drop unnecessary columns \n",
    "df_combined=df_joined.drop(['timestamp', 'eventType', 'authorPersonId', 'authorSessionId', 'lang'], axis=1)"
   ]
  },
  {
   "cell_type": "markdown",
   "metadata": {},
   "source": [
    "**Notice if users have the same intereaction more than once for certain article, we only count it once**"
   ]
  },
  {
   "cell_type": "code",
   "execution_count": 24,
   "metadata": {},
   "outputs": [
    {
     "name": "stdout",
     "output_type": "stream",
     "text": [
      "(32623, 5)\n"
     ]
    },
    {
     "data": {
      "text/html": [
       "<div>\n",
       "<style scoped>\n",
       "    .dataframe tbody tr th:only-of-type {\n",
       "        vertical-align: middle;\n",
       "    }\n",
       "\n",
       "    .dataframe tbody tr th {\n",
       "        vertical-align: top;\n",
       "    }\n",
       "\n",
       "    .dataframe thead th {\n",
       "        text-align: right;\n",
       "    }\n",
       "</style>\n",
       "<table border=\"1\" class=\"dataframe\">\n",
       "  <thead>\n",
       "    <tr style=\"text-align: right;\">\n",
       "      <th></th>\n",
       "      <th>contentId</th>\n",
       "      <th>personId</th>\n",
       "      <th>score</th>\n",
       "      <th>title</th>\n",
       "      <th>text</th>\n",
       "    </tr>\n",
       "  </thead>\n",
       "  <tbody>\n",
       "    <tr>\n",
       "      <th>0</th>\n",
       "      <td>-3499919498720038879</td>\n",
       "      <td>-8845298781299428018</td>\n",
       "      <td>1</td>\n",
       "      <td>Hiri wants to fix the workplace email problem</td>\n",
       "      <td>Hiri is the latest startup trying to fix email...</td>\n",
       "    </tr>\n",
       "    <tr>\n",
       "      <th>2</th>\n",
       "      <td>-3499919498720038879</td>\n",
       "      <td>-108842214936804958</td>\n",
       "      <td>1</td>\n",
       "      <td>Hiri wants to fix the workplace email problem</td>\n",
       "      <td>Hiri is the latest startup trying to fix email...</td>\n",
       "    </tr>\n",
       "    <tr>\n",
       "      <th>3</th>\n",
       "      <td>-3499919498720038879</td>\n",
       "      <td>-1443636648652872475</td>\n",
       "      <td>1</td>\n",
       "      <td>Hiri wants to fix the workplace email problem</td>\n",
       "      <td>Hiri is the latest startup trying to fix email...</td>\n",
       "    </tr>\n",
       "    <tr>\n",
       "      <th>6</th>\n",
       "      <td>-3499919498720038879</td>\n",
       "      <td>-8020832670974472349</td>\n",
       "      <td>1</td>\n",
       "      <td>Hiri wants to fix the workplace email problem</td>\n",
       "      <td>Hiri is the latest startup trying to fix email...</td>\n",
       "    </tr>\n",
       "    <tr>\n",
       "      <th>8</th>\n",
       "      <td>-3499919498720038879</td>\n",
       "      <td>-9009798162809551896</td>\n",
       "      <td>2</td>\n",
       "      <td>Hiri wants to fix the workplace email problem</td>\n",
       "      <td>Hiri is the latest startup trying to fix email...</td>\n",
       "    </tr>\n",
       "  </tbody>\n",
       "</table>\n",
       "</div>"
      ],
      "text/plain": [
       "             contentId             personId  score  \\\n",
       "0 -3499919498720038879 -8845298781299428018      1   \n",
       "2 -3499919498720038879  -108842214936804958      1   \n",
       "3 -3499919498720038879 -1443636648652872475      1   \n",
       "6 -3499919498720038879 -8020832670974472349      1   \n",
       "8 -3499919498720038879 -9009798162809551896      2   \n",
       "\n",
       "                                           title  \\\n",
       "0  Hiri wants to fix the workplace email problem   \n",
       "2  Hiri wants to fix the workplace email problem   \n",
       "3  Hiri wants to fix the workplace email problem   \n",
       "6  Hiri wants to fix the workplace email problem   \n",
       "8  Hiri wants to fix the workplace email problem   \n",
       "\n",
       "                                                text  \n",
       "0  Hiri is the latest startup trying to fix email...  \n",
       "2  Hiri is the latest startup trying to fix email...  \n",
       "3  Hiri is the latest startup trying to fix email...  \n",
       "6  Hiri is the latest startup trying to fix email...  \n",
       "8  Hiri is the latest startup trying to fix email...  "
      ]
     },
     "execution_count": 24,
     "metadata": {},
     "output_type": "execute_result"
    }
   ],
   "source": [
    "df_combined.drop_duplicates(inplace=True)\n",
    "\n",
    "print(df_combined.shape)\n",
    "df_combined.head()"
   ]
  },
  {
   "cell_type": "markdown",
   "metadata": {},
   "source": [
    "-------"
   ]
  },
  {
   "cell_type": "markdown",
   "metadata": {},
   "source": [
    "### Popularity Model\n",
    "\n",
    "Popularity model is the most commonly used model for basic recommender system, which simply recommend the most popular items based on average rating from users. \n",
    "\n",
    "We will use popularity model as the baseline model and see how it performs \n",
    "\n",
    "Notice each user can have multiple interactions with certain article, therefore we use the sum of scores to represent the score that user give to certain article"
   ]
  },
  {
   "cell_type": "code",
   "execution_count": 38,
   "metadata": {},
   "outputs": [
    {
     "data": {
      "text/html": [
       "<div>\n",
       "<style scoped>\n",
       "    .dataframe tbody tr th:only-of-type {\n",
       "        vertical-align: middle;\n",
       "    }\n",
       "\n",
       "    .dataframe tbody tr th {\n",
       "        vertical-align: top;\n",
       "    }\n",
       "\n",
       "    .dataframe thead th {\n",
       "        text-align: right;\n",
       "    }\n",
       "</style>\n",
       "<table border=\"1\" class=\"dataframe\">\n",
       "  <thead>\n",
       "    <tr style=\"text-align: right;\">\n",
       "      <th></th>\n",
       "      <th>contentId</th>\n",
       "      <th>title</th>\n",
       "      <th>text</th>\n",
       "      <th>score</th>\n",
       "    </tr>\n",
       "  </thead>\n",
       "  <tbody>\n",
       "    <tr>\n",
       "      <th>0</th>\n",
       "      <td>6847460841437230342</td>\n",
       "      <td>Indian outsourcing specialists must reboot the...</td>\n",
       "      <td>COMPUTERS slow as they age, and before long mu...</td>\n",
       "      <td>11.333333</td>\n",
       "    </tr>\n",
       "    <tr>\n",
       "      <th>1</th>\n",
       "      <td>-4262964715347041233</td>\n",
       "      <td>Corporate Intrapreneur Summit</td>\n",
       "      <td>The 2016 Corporate Intrapreneur Summit, produc...</td>\n",
       "      <td>10.666667</td>\n",
       "    </tr>\n",
       "    <tr>\n",
       "      <th>2</th>\n",
       "      <td>6800965548226529308</td>\n",
       "      <td>Sponsored: Five reasons why retailers should o...</td>\n",
       "      <td>Unsupported browser For a better experience pl...</td>\n",
       "      <td>10.000000</td>\n",
       "    </tr>\n",
       "    <tr>\n",
       "      <th>3</th>\n",
       "      <td>-340541651592032197</td>\n",
       "      <td>Relating a Problem Definition to IoT Architect...</td>\n",
       "      <td>Lets face it, the largest function within IoT ...</td>\n",
       "      <td>10.000000</td>\n",
       "    </tr>\n",
       "    <tr>\n",
       "      <th>4</th>\n",
       "      <td>49177526672934036</td>\n",
       "      <td>After a year of using NodeJS in production</td>\n",
       "      <td>This is a follow-up to my original \"Why I'm sw...</td>\n",
       "      <td>10.000000</td>\n",
       "    </tr>\n",
       "    <tr>\n",
       "      <th>5</th>\n",
       "      <td>5929055844564382383</td>\n",
       "      <td>Digital Tool as Strategic Enabler for Banking ...</td>\n",
       "      <td>By Brian Pallas , founder and CEO of Opportuni...</td>\n",
       "      <td>10.000000</td>\n",
       "    </tr>\n",
       "    <tr>\n",
       "      <th>6</th>\n",
       "      <td>3116298625885250927</td>\n",
       "      <td>ESA says doomed Mars lander succumbed to bad a...</td>\n",
       "      <td>One second of faulty data led to the destructi...</td>\n",
       "      <td>10.000000</td>\n",
       "    </tr>\n",
       "    <tr>\n",
       "      <th>7</th>\n",
       "      <td>-2402157201203242566</td>\n",
       "      <td>Number26 raises another $40 million for its vi...</td>\n",
       "      <td>Berlin-based startup Number26 just raised a $4...</td>\n",
       "      <td>10.000000</td>\n",
       "    </tr>\n",
       "    <tr>\n",
       "      <th>8</th>\n",
       "      <td>-7568926158048616650</td>\n",
       "      <td>Adobe CQ/Adobe AEM</td>\n",
       "      <td>Use Case: We often come across situation where...</td>\n",
       "      <td>9.000000</td>\n",
       "    </tr>\n",
       "    <tr>\n",
       "      <th>9</th>\n",
       "      <td>-3351652027149912881</td>\n",
       "      <td>Feather: A Fast On-Disk Format for Data Frames...</td>\n",
       "      <td>Wes McKinney, Software Engineer, Cloudera Hadl...</td>\n",
       "      <td>8.600000</td>\n",
       "    </tr>\n",
       "  </tbody>\n",
       "</table>\n",
       "</div>"
      ],
      "text/plain": [
       "             contentId                                              title  \\\n",
       "0  6847460841437230342  Indian outsourcing specialists must reboot the...   \n",
       "1 -4262964715347041233                      Corporate Intrapreneur Summit   \n",
       "2  6800965548226529308  Sponsored: Five reasons why retailers should o...   \n",
       "3  -340541651592032197  Relating a Problem Definition to IoT Architect...   \n",
       "4    49177526672934036         After a year of using NodeJS in production   \n",
       "5  5929055844564382383  Digital Tool as Strategic Enabler for Banking ...   \n",
       "6  3116298625885250927  ESA says doomed Mars lander succumbed to bad a...   \n",
       "7 -2402157201203242566  Number26 raises another $40 million for its vi...   \n",
       "8 -7568926158048616650                                 Adobe CQ/Adobe AEM   \n",
       "9 -3351652027149912881  Feather: A Fast On-Disk Format for Data Frames...   \n",
       "\n",
       "                                                text      score  \n",
       "0  COMPUTERS slow as they age, and before long mu...  11.333333  \n",
       "1  The 2016 Corporate Intrapreneur Summit, produc...  10.666667  \n",
       "2  Unsupported browser For a better experience pl...  10.000000  \n",
       "3  Lets face it, the largest function within IoT ...  10.000000  \n",
       "4  This is a follow-up to my original \"Why I'm sw...  10.000000  \n",
       "5  By Brian Pallas , founder and CEO of Opportuni...  10.000000  \n",
       "6  One second of faulty data led to the destructi...  10.000000  \n",
       "7  Berlin-based startup Number26 just raised a $4...  10.000000  \n",
       "8  Use Case: We often come across situation where...   9.000000  \n",
       "9  Wes McKinney, Software Engineer, Cloudera Hadl...   8.600000  "
      ]
     },
     "execution_count": 38,
     "metadata": {},
     "output_type": "execute_result"
    }
   ],
   "source": [
    "## create a new dataframe for popularity model called df_score\n",
    "## sum of the score\n",
    "df_score=df_combined.groupby(['personId', 'contentId', 'title', 'text']).sum().reset_index()\n",
    "\n",
    "## average score for each article\n",
    "df_score=df_score.groupby(['contentId', 'title', 'text']).mean().sort_values('score',ascending=False)\n",
    "df_score=df_score.drop('personId', axis=1)\n",
    "df_score=df_score.reset_index()\n",
    "\n",
    "df_score.head(10)"
   ]
  },
  {
   "cell_type": "markdown",
   "metadata": {},
   "source": [
    "#### The articles above are the top 10 commendation based on the average score and we can use Wordcloud to visualize the key words. "
   ]
  },
  {
   "cell_type": "code",
   "execution_count": 41,
   "metadata": {},
   "outputs": [],
   "source": [
    "from sklearn.feature_extraction.text import CountVectorizer\n",
    "\n",
    "## use CountVectorizer to preprocess the title of articles\n",
    "title=df_score.title\n",
    "\n",
    "vect = CountVectorizer(stop_words='english', ngram_range=(1,3)).fit(title)"
   ]
  },
  {
   "cell_type": "code",
   "execution_count": 42,
   "metadata": {},
   "outputs": [],
   "source": [
    "## convert it into list before feed into wordcloud\n",
    "words = vect.get_feature_names()\n",
    "words= ''.join(words)"
   ]
  },
  {
   "cell_type": "code",
   "execution_count": 43,
   "metadata": {},
   "outputs": [
    {
     "data": {
      "image/png": "[encoded data removed]",
      "text/plain": [
       "<matplotlib.figure.Figure at 0x111d64fd0>"
      ]
     },
     "metadata": {},
     "output_type": "display_data"
    }
   ],
   "source": [
    "from wordcloud import WordCloud, STOPWORDS\n",
    "\n",
    "wordcloud = WordCloud(max_font_size=100, max_words=50, background_color=\"white\").generate(words)\n",
    "plt.figure(figsize=(15,20))\n",
    "plt.imshow(wordcloud, interpolation=\"bilinear\")\n",
    "plt.axis(\"off\")\n",
    "plt.show()"
   ]
  },
  {
   "cell_type": "markdown",
   "metadata": {},
   "source": [
    "**From wordcloud we can see that most users are very into technology. However, popularity model is not personalized. It can easily run into the problem when user is not interested in technology and its recommendation make no sense to this type of users**"
   ]
  },
  {
   "cell_type": "markdown",
   "metadata": {},
   "source": [
    "-------"
   ]
  },
  {
   "cell_type": "markdown",
   "metadata": {},
   "source": [
    "## Content-based model\n",
    "\n",
    "In order to personalize the recommendation, we introduce the content-based model, which identifies similar articles. When user read one article, the model will recommend the articles that are most similar to the one that user read based on its algorithm. \n",
    "\n",
    "**Here we use pairwise cosine similarity of content of articles to determine how similar two articles are.**"
   ]
  },
  {
   "cell_type": "code",
   "execution_count": 44,
   "metadata": {},
   "outputs": [],
   "source": [
    "## define tokenizer function\n",
    "\n",
    "from sklearn.feature_extraction.text import ENGLISH_STOP_WORDS\n",
    "import string\n",
    "import nltk\n",
    "stemmer = nltk.stem.PorterStemmer()\n",
    "\n",
    "def my_tokenizer(sentence):\n",
    "\n",
    "    listofwords = sentence.split(' ')\n",
    "    listofstemmed_words = []\n",
    "    \n",
    "    for word in listofwords:\n",
    "        # Remove stopwords\n",
    "        if word in ENGLISH_STOP_WORDS: continue\n",
    "        # Stem words\n",
    "        stemmed_word = stemmer.stem(word)\n",
    "        for punctuation_mark in string.punctuation:\n",
    "            # Remove punctuation and set to lower case\n",
    "            stemmed_word = stemmed_word.replace(punctuation_mark, '').lower()\n",
    "        listofstemmed_words.append(stemmed_word)\n",
    "\n",
    "    return listofstemmed_words"
   ]
  },
  {
   "cell_type": "code",
   "execution_count": 45,
   "metadata": {},
   "outputs": [
    {
     "data": {
      "text/plain": [
       "TfidfVectorizer(analyzer='word', binary=False, decode_error='strict',\n",
       "        dtype=<class 'numpy.int64'>, encoding='utf-8', input='content',\n",
       "        lowercase=True, max_df=1.0, max_features=None, min_df=1,\n",
       "        ngram_range=(1, 3), norm='l2', preprocessor=None, smooth_idf=True,\n",
       "        stop_words='english', strip_accents=None, sublinear_tf=False,\n",
       "        token_pattern='(?u)\\\\b\\\\w\\\\w+\\\\b',\n",
       "        tokenizer=<function my_tokenizer at 0x111bb99d8>, use_idf=True,\n",
       "        vocabulary=None)"
      ]
     },
     "execution_count": 45,
     "metadata": {},
     "output_type": "execute_result"
    }
   ],
   "source": [
    "## use TfidfVectorizer for preprocessing the content of articles\n",
    "\n",
    "from sklearn.feature_extraction.text import TfidfVectorizer\n",
    "\n",
    "content=df_score.text\n",
    "\n",
    "tfidf = TfidfVectorizer(stop_words = \"english\", ngram_range=(1,3), tokenizer=my_tokenizer)\n",
    "tfidf.fit(content)"
   ]
  },
  {
   "cell_type": "code",
   "execution_count": 46,
   "metadata": {},
   "outputs": [
    {
     "data": {
      "text/plain": [
       "(2149, 1839220)"
      ]
     },
     "execution_count": 46,
     "metadata": {},
     "output_type": "execute_result"
    }
   ],
   "source": [
    "## transform the data \n",
    "\n",
    "text=tfidf.transform(content)\n",
    "text.shape"
   ]
  },
  {
   "cell_type": "code",
   "execution_count": 47,
   "metadata": {},
   "outputs": [
    {
     "data": {
      "text/plain": [
       "(2149, 2149)"
      ]
     },
     "execution_count": 47,
     "metadata": {},
     "output_type": "execute_result"
    }
   ],
   "source": [
    "## calculate cosine similarity\n",
    "\n",
    "from sklearn.metrics.pairwise import cosine_similarity\n",
    "\n",
    "similarity=cosine_similarity(text, text)"
   ]
  },
  {
   "cell_type": "code",
   "execution_count": 49,
   "metadata": {
    "scrolled": false
   },
   "outputs": [
    {
     "data": {
      "text/html": [
       "<div>\n",
       "<style scoped>\n",
       "    .dataframe tbody tr th:only-of-type {\n",
       "        vertical-align: middle;\n",
       "    }\n",
       "\n",
       "    .dataframe tbody tr th {\n",
       "        vertical-align: top;\n",
       "    }\n",
       "\n",
       "    .dataframe thead th {\n",
       "        text-align: right;\n",
       "    }\n",
       "</style>\n",
       "<table border=\"1\" class=\"dataframe\">\n",
       "  <thead>\n",
       "    <tr style=\"text-align: right;\">\n",
       "      <th></th>\n",
       "      <th>0</th>\n",
       "      <th>1</th>\n",
       "      <th>2</th>\n",
       "      <th>3</th>\n",
       "      <th>4</th>\n",
       "      <th>5</th>\n",
       "      <th>6</th>\n",
       "      <th>7</th>\n",
       "      <th>8</th>\n",
       "      <th>9</th>\n",
       "      <th>...</th>\n",
       "      <th>2139</th>\n",
       "      <th>2140</th>\n",
       "      <th>2141</th>\n",
       "      <th>2142</th>\n",
       "      <th>2143</th>\n",
       "      <th>2144</th>\n",
       "      <th>2145</th>\n",
       "      <th>2146</th>\n",
       "      <th>2147</th>\n",
       "      <th>2148</th>\n",
       "    </tr>\n",
       "    <tr>\n",
       "      <th>title</th>\n",
       "      <th></th>\n",
       "      <th></th>\n",
       "      <th></th>\n",
       "      <th></th>\n",
       "      <th></th>\n",
       "      <th></th>\n",
       "      <th></th>\n",
       "      <th></th>\n",
       "      <th></th>\n",
       "      <th></th>\n",
       "      <th></th>\n",
       "      <th></th>\n",
       "      <th></th>\n",
       "      <th></th>\n",
       "      <th></th>\n",
       "      <th></th>\n",
       "      <th></th>\n",
       "      <th></th>\n",
       "      <th></th>\n",
       "      <th></th>\n",
       "      <th></th>\n",
       "    </tr>\n",
       "  </thead>\n",
       "  <tbody>\n",
       "    <tr>\n",
       "      <th>Indian outsourcing specialists must reboot their strategies</th>\n",
       "      <td>1.000000</td>\n",
       "      <td>0.003231</td>\n",
       "      <td>0.002119</td>\n",
       "      <td>0.000951</td>\n",
       "      <td>0.009794</td>\n",
       "      <td>0.025198</td>\n",
       "      <td>0.008240</td>\n",
       "      <td>0.015765</td>\n",
       "      <td>0.004186</td>\n",
       "      <td>0.004474</td>\n",
       "      <td>...</td>\n",
       "      <td>0.021500</td>\n",
       "      <td>0.007055</td>\n",
       "      <td>0.007313</td>\n",
       "      <td>0.003513</td>\n",
       "      <td>0.010953</td>\n",
       "      <td>0.003897</td>\n",
       "      <td>0.004982</td>\n",
       "      <td>0.004809</td>\n",
       "      <td>0.011234</td>\n",
       "      <td>0.006200</td>\n",
       "    </tr>\n",
       "    <tr>\n",
       "      <th>Corporate Intrapreneur Summit</th>\n",
       "      <td>0.003231</td>\n",
       "      <td>1.000000</td>\n",
       "      <td>0.002876</td>\n",
       "      <td>0.000000</td>\n",
       "      <td>0.001348</td>\n",
       "      <td>0.008200</td>\n",
       "      <td>0.001585</td>\n",
       "      <td>0.002591</td>\n",
       "      <td>0.000137</td>\n",
       "      <td>0.001458</td>\n",
       "      <td>...</td>\n",
       "      <td>0.004843</td>\n",
       "      <td>0.002362</td>\n",
       "      <td>0.006036</td>\n",
       "      <td>0.001455</td>\n",
       "      <td>0.004290</td>\n",
       "      <td>0.002050</td>\n",
       "      <td>0.001632</td>\n",
       "      <td>0.001530</td>\n",
       "      <td>0.003265</td>\n",
       "      <td>0.003406</td>\n",
       "    </tr>\n",
       "    <tr>\n",
       "      <th>Sponsored: Five reasons why retailers should opt for digital receipts</th>\n",
       "      <td>0.002119</td>\n",
       "      <td>0.002876</td>\n",
       "      <td>1.000000</td>\n",
       "      <td>0.000000</td>\n",
       "      <td>0.004526</td>\n",
       "      <td>0.003966</td>\n",
       "      <td>0.000705</td>\n",
       "      <td>0.001110</td>\n",
       "      <td>0.002981</td>\n",
       "      <td>0.001675</td>\n",
       "      <td>...</td>\n",
       "      <td>0.003859</td>\n",
       "      <td>0.001299</td>\n",
       "      <td>0.001888</td>\n",
       "      <td>0.000000</td>\n",
       "      <td>0.001722</td>\n",
       "      <td>0.002148</td>\n",
       "      <td>0.002487</td>\n",
       "      <td>0.001159</td>\n",
       "      <td>0.026774</td>\n",
       "      <td>0.000215</td>\n",
       "    </tr>\n",
       "    <tr>\n",
       "      <th>Relating a Problem Definition to IoT Architecture | Intel® Software</th>\n",
       "      <td>0.000951</td>\n",
       "      <td>0.000000</td>\n",
       "      <td>0.000000</td>\n",
       "      <td>1.000000</td>\n",
       "      <td>0.004332</td>\n",
       "      <td>0.005112</td>\n",
       "      <td>0.001647</td>\n",
       "      <td>0.000442</td>\n",
       "      <td>0.000562</td>\n",
       "      <td>0.000929</td>\n",
       "      <td>...</td>\n",
       "      <td>0.003625</td>\n",
       "      <td>0.000000</td>\n",
       "      <td>0.001442</td>\n",
       "      <td>0.000000</td>\n",
       "      <td>0.002249</td>\n",
       "      <td>0.005849</td>\n",
       "      <td>0.001545</td>\n",
       "      <td>0.000622</td>\n",
       "      <td>0.002826</td>\n",
       "      <td>0.002835</td>\n",
       "    </tr>\n",
       "    <tr>\n",
       "      <th>After a year of using NodeJS in production</th>\n",
       "      <td>0.009794</td>\n",
       "      <td>0.001348</td>\n",
       "      <td>0.004526</td>\n",
       "      <td>0.004332</td>\n",
       "      <td>1.000000</td>\n",
       "      <td>0.008270</td>\n",
       "      <td>0.007353</td>\n",
       "      <td>0.007706</td>\n",
       "      <td>0.020418</td>\n",
       "      <td>0.025951</td>\n",
       "      <td>...</td>\n",
       "      <td>0.018388</td>\n",
       "      <td>0.005352</td>\n",
       "      <td>0.006470</td>\n",
       "      <td>0.002540</td>\n",
       "      <td>0.013572</td>\n",
       "      <td>0.008977</td>\n",
       "      <td>0.008152</td>\n",
       "      <td>0.004811</td>\n",
       "      <td>0.010008</td>\n",
       "      <td>0.010544</td>\n",
       "    </tr>\n",
       "  </tbody>\n",
       "</table>\n",
       "<p>5 rows × 2149 columns</p>\n",
       "</div>"
      ],
      "text/plain": [
       "                                                        0         1     \\\n",
       "title                                                                    \n",
       "Indian outsourcing specialists must reboot thei...  1.000000  0.003231   \n",
       "Corporate Intrapreneur Summit                       0.003231  1.000000   \n",
       "Sponsored: Five reasons why retailers should op...  0.002119  0.002876   \n",
       "Relating a Problem Definition to IoT Architectu...  0.000951  0.000000   \n",
       "After a year of using NodeJS in production          0.009794  0.001348   \n",
       "\n",
       "                                                        2         3     \\\n",
       "title                                                                    \n",
       "Indian outsourcing specialists must reboot thei...  0.002119  0.000951   \n",
       "Corporate Intrapreneur Summit                       0.002876  0.000000   \n",
       "Sponsored: Five reasons why retailers should op...  1.000000  0.000000   \n",
       "Relating a Problem Definition to IoT Architectu...  0.000000  1.000000   \n",
       "After a year of using NodeJS in production          0.004526  0.004332   \n",
       "\n",
       "                                                        4         5     \\\n",
       "title                                                                    \n",
       "Indian outsourcing specialists must reboot thei...  0.009794  0.025198   \n",
       "Corporate Intrapreneur Summit                       0.001348  0.008200   \n",
       "Sponsored: Five reasons why retailers should op...  0.004526  0.003966   \n",
       "Relating a Problem Definition to IoT Architectu...  0.004332  0.005112   \n",
       "After a year of using NodeJS in production          1.000000  0.008270   \n",
       "\n",
       "                                                        6         7     \\\n",
       "title                                                                    \n",
       "Indian outsourcing specialists must reboot thei...  0.008240  0.015765   \n",
       "Corporate Intrapreneur Summit                       0.001585  0.002591   \n",
       "Sponsored: Five reasons why retailers should op...  0.000705  0.001110   \n",
       "Relating a Problem Definition to IoT Architectu...  0.001647  0.000442   \n",
       "After a year of using NodeJS in production          0.007353  0.007706   \n",
       "\n",
       "                                                        8         9     \\\n",
       "title                                                                    \n",
       "Indian outsourcing specialists must reboot thei...  0.004186  0.004474   \n",
       "Corporate Intrapreneur Summit                       0.000137  0.001458   \n",
       "Sponsored: Five reasons why retailers should op...  0.002981  0.001675   \n",
       "Relating a Problem Definition to IoT Architectu...  0.000562  0.000929   \n",
       "After a year of using NodeJS in production          0.020418  0.025951   \n",
       "\n",
       "                                                      ...         2139  \\\n",
       "title                                                 ...                \n",
       "Indian outsourcing specialists must reboot thei...    ...     0.021500   \n",
       "Corporate Intrapreneur Summit                         ...     0.004843   \n",
       "Sponsored: Five reasons why retailers should op...    ...     0.003859   \n",
       "Relating a Problem Definition to IoT Architectu...    ...     0.003625   \n",
       "After a year of using NodeJS in production            ...     0.018388   \n",
       "\n",
       "                                                        2140      2141  \\\n",
       "title                                                                    \n",
       "Indian outsourcing specialists must reboot thei...  0.007055  0.007313   \n",
       "Corporate Intrapreneur Summit                       0.002362  0.006036   \n",
       "Sponsored: Five reasons why retailers should op...  0.001299  0.001888   \n",
       "Relating a Problem Definition to IoT Architectu...  0.000000  0.001442   \n",
       "After a year of using NodeJS in production          0.005352  0.006470   \n",
       "\n",
       "                                                        2142      2143  \\\n",
       "title                                                                    \n",
       "Indian outsourcing specialists must reboot thei...  0.003513  0.010953   \n",
       "Corporate Intrapreneur Summit                       0.001455  0.004290   \n",
       "Sponsored: Five reasons why retailers should op...  0.000000  0.001722   \n",
       "Relating a Problem Definition to IoT Architectu...  0.000000  0.002249   \n",
       "After a year of using NodeJS in production          0.002540  0.013572   \n",
       "\n",
       "                                                        2144      2145  \\\n",
       "title                                                                    \n",
       "Indian outsourcing specialists must reboot thei...  0.003897  0.004982   \n",
       "Corporate Intrapreneur Summit                       0.002050  0.001632   \n",
       "Sponsored: Five reasons why retailers should op...  0.002148  0.002487   \n",
       "Relating a Problem Definition to IoT Architectu...  0.005849  0.001545   \n",
       "After a year of using NodeJS in production          0.008977  0.008152   \n",
       "\n",
       "                                                        2146      2147  \\\n",
       "title                                                                    \n",
       "Indian outsourcing specialists must reboot thei...  0.004809  0.011234   \n",
       "Corporate Intrapreneur Summit                       0.001530  0.003265   \n",
       "Sponsored: Five reasons why retailers should op...  0.001159  0.026774   \n",
       "Relating a Problem Definition to IoT Architectu...  0.000622  0.002826   \n",
       "After a year of using NodeJS in production          0.004811  0.010008   \n",
       "\n",
       "                                                        2148  \n",
       "title                                                         \n",
       "Indian outsourcing specialists must reboot thei...  0.006200  \n",
       "Corporate Intrapreneur Summit                       0.003406  \n",
       "Sponsored: Five reasons why retailers should op...  0.000215  \n",
       "Relating a Problem Definition to IoT Architectu...  0.002835  \n",
       "After a year of using NodeJS in production          0.010544  \n",
       "\n",
       "[5 rows x 2149 columns]"
      ]
     },
     "execution_count": 49,
     "metadata": {},
     "output_type": "execute_result"
    }
   ],
   "source": [
    "## put cosine similarity matrix into dataframe\n",
    "\n",
    "df_similarity=pd.DataFrame(similarity)\n",
    "\n",
    "df_similarity['title']=df_score['title']\n",
    "df_similarity=df_similarity.set_index('title')\n",
    "\n",
    "df_similarity.head()"
   ]
  },
  {
   "cell_type": "markdown",
   "metadata": {},
   "source": [
    "#### Define a function to return 10 most similar articles"
   ]
  },
  {
   "cell_type": "code",
   "execution_count": 54,
   "metadata": {},
   "outputs": [],
   "source": [
    "def return_article(title):\n",
    "    number=df_score[df_score['title']==title].index.values\n",
    "    return df_similarity.iloc[:, number].sort_values(number[0],ascending=False).head(11)"
   ]
  },
  {
   "cell_type": "code",
   "execution_count": 55,
   "metadata": {},
   "outputs": [
    {
     "data": {
      "text/html": [
       "<div>\n",
       "<style scoped>\n",
       "    .dataframe tbody tr th:only-of-type {\n",
       "        vertical-align: middle;\n",
       "    }\n",
       "\n",
       "    .dataframe tbody tr th {\n",
       "        vertical-align: top;\n",
       "    }\n",
       "\n",
       "    .dataframe thead th {\n",
       "        text-align: right;\n",
       "    }\n",
       "</style>\n",
       "<table border=\"1\" class=\"dataframe\">\n",
       "  <thead>\n",
       "    <tr style=\"text-align: right;\">\n",
       "      <th></th>\n",
       "      <th>1</th>\n",
       "    </tr>\n",
       "    <tr>\n",
       "      <th>title</th>\n",
       "      <th></th>\n",
       "    </tr>\n",
       "  </thead>\n",
       "  <tbody>\n",
       "    <tr>\n",
       "      <th>Corporate Intrapreneur Summit</th>\n",
       "      <td>1.000000</td>\n",
       "    </tr>\n",
       "    <tr>\n",
       "      <th>[Free Online Course] Sit Less, Get Active - The University of Edinburgh | Coursera</th>\n",
       "      <td>0.035416</td>\n",
       "    </tr>\n",
       "    <tr>\n",
       "      <th>Building A Better Workforce: 5 Talent Trends Worth Watching</th>\n",
       "      <td>0.034872</td>\n",
       "    </tr>\n",
       "    <tr>\n",
       "      <th>Learning at the speed of business</th>\n",
       "      <td>0.033852</td>\n",
       "    </tr>\n",
       "    <tr>\n",
       "      <th>Acquia Engage Awards Finalists Announced</th>\n",
       "      <td>0.028541</td>\n",
       "    </tr>\n",
       "    <tr>\n",
       "      <th>5 reasons your employees aren't sharing their knowledge</th>\n",
       "      <td>0.021419</td>\n",
       "    </tr>\n",
       "    <tr>\n",
       "      <th>Facebook wants to change the way Australians use mobile banking</th>\n",
       "      <td>0.020454</td>\n",
       "    </tr>\n",
       "    <tr>\n",
       "      <th>Research: Why Best Practices Don't Translate Across Cultures</th>\n",
       "      <td>0.019319</td>\n",
       "    </tr>\n",
       "    <tr>\n",
       "      <th>The gig economy as a driver of innovation</th>\n",
       "      <td>0.018890</td>\n",
       "    </tr>\n",
       "    <tr>\n",
       "      <th>Cross-industry innovations for agriculture | Deloitte Australia | Consumer &amp; Industrial products, Technology</th>\n",
       "      <td>0.018552</td>\n",
       "    </tr>\n",
       "    <tr>\n",
       "      <th>NOW NEW NEXT: How growth champions create new value</th>\n",
       "      <td>0.018432</td>\n",
       "    </tr>\n",
       "  </tbody>\n",
       "</table>\n",
       "</div>"
      ],
      "text/plain": [
       "                                                           1\n",
       "title                                                       \n",
       "Corporate Intrapreneur Summit                       1.000000\n",
       "[Free Online Course] Sit Less, Get Active - The...  0.035416\n",
       "Building A Better Workforce: 5 Talent Trends Wo...  0.034872\n",
       "Learning at the speed of business                   0.033852\n",
       "Acquia Engage Awards Finalists Announced            0.028541\n",
       "5 reasons your employees aren't sharing their k...  0.021419\n",
       "Facebook wants to change the way Australians us...  0.020454\n",
       "Research: Why Best Practices Don't Translate Ac...  0.019319\n",
       "The gig economy as a driver of innovation           0.018890\n",
       "Cross-industry innovations for agriculture | De...  0.018552\n",
       "NOW NEW NEXT: How growth champions create new v...  0.018432"
      ]
     },
     "execution_count": 55,
     "metadata": {},
     "output_type": "execute_result"
    }
   ],
   "source": [
    "## return recommendation for article 'Corporate Intrapreneur Summit'\n",
    "\n",
    "return_article('Corporate Intrapreneur Summit')"
   ]
  },
  {
   "cell_type": "markdown",
   "metadata": {},
   "source": [
    "The first item in the table is the article user read and it has cosine similarity to itself equal to 1. The rest is top 10 recommendation based on cosine simialrity. Although the cosine similarity of recommended articile is not very high, it makes sense because we fit all the content of articles into the model. \n",
    "\n",
    "Now we have content based model that works better than simple popularity model, which recommend most similar articles. However, this model does not catch whether user like or dislike the article. Think about the situation that you accidently open a Youtube video you dislike and Youtube keeps recommend similar videos. This is exactly what happens to content based model."
   ]
  },
  {
   "cell_type": "markdown",
   "metadata": {},
   "source": [
    "--------"
   ]
  },
  {
   "cell_type": "markdown",
   "metadata": {},
   "source": [
    "## Collaborative Model\n",
    "\n",
    "In order to catch how much user like the articles, we introduce collaborative model to find the pattern of what articles user read and score they give. Based on this pattern, collaborative model will identify the most similar users and recommend the articles based on what they read.\n",
    "\n",
    "For collaborative model, we will use a python scikit called 'Surprise' to building and analyzing recommender systems.\n",
    "\n",
    "For more information about Surprise, check its Github page https://github.com/NicolasHug/Surprise"
   ]
  },
  {
   "cell_type": "code",
   "execution_count": 56,
   "metadata": {},
   "outputs": [],
   "source": [
    "from surprise import Reader, Dataset, SVD, evaluate\n",
    "from surprise.model_selection import cross_validate"
   ]
  },
  {
   "cell_type": "code",
   "execution_count": 57,
   "metadata": {},
   "outputs": [
    {
     "data": {
      "text/html": [
       "<div>\n",
       "<style scoped>\n",
       "    .dataframe tbody tr th:only-of-type {\n",
       "        vertical-align: middle;\n",
       "    }\n",
       "\n",
       "    .dataframe tbody tr th {\n",
       "        vertical-align: top;\n",
       "    }\n",
       "\n",
       "    .dataframe thead th {\n",
       "        text-align: right;\n",
       "    }\n",
       "</style>\n",
       "<table border=\"1\" class=\"dataframe\">\n",
       "  <thead>\n",
       "    <tr style=\"text-align: right;\">\n",
       "      <th></th>\n",
       "      <th>contentId</th>\n",
       "      <th>personId</th>\n",
       "      <th>score</th>\n",
       "      <th>title</th>\n",
       "      <th>text</th>\n",
       "    </tr>\n",
       "  </thead>\n",
       "  <tbody>\n",
       "    <tr>\n",
       "      <th>0</th>\n",
       "      <td>-3499919498720038879</td>\n",
       "      <td>-8845298781299428018</td>\n",
       "      <td>1</td>\n",
       "      <td>Hiri wants to fix the workplace email problem</td>\n",
       "      <td>Hiri is the latest startup trying to fix email...</td>\n",
       "    </tr>\n",
       "    <tr>\n",
       "      <th>2</th>\n",
       "      <td>-3499919498720038879</td>\n",
       "      <td>-108842214936804958</td>\n",
       "      <td>1</td>\n",
       "      <td>Hiri wants to fix the workplace email problem</td>\n",
       "      <td>Hiri is the latest startup trying to fix email...</td>\n",
       "    </tr>\n",
       "    <tr>\n",
       "      <th>3</th>\n",
       "      <td>-3499919498720038879</td>\n",
       "      <td>-1443636648652872475</td>\n",
       "      <td>1</td>\n",
       "      <td>Hiri wants to fix the workplace email problem</td>\n",
       "      <td>Hiri is the latest startup trying to fix email...</td>\n",
       "    </tr>\n",
       "    <tr>\n",
       "      <th>6</th>\n",
       "      <td>-3499919498720038879</td>\n",
       "      <td>-8020832670974472349</td>\n",
       "      <td>1</td>\n",
       "      <td>Hiri wants to fix the workplace email problem</td>\n",
       "      <td>Hiri is the latest startup trying to fix email...</td>\n",
       "    </tr>\n",
       "    <tr>\n",
       "      <th>8</th>\n",
       "      <td>-3499919498720038879</td>\n",
       "      <td>-9009798162809551896</td>\n",
       "      <td>2</td>\n",
       "      <td>Hiri wants to fix the workplace email problem</td>\n",
       "      <td>Hiri is the latest startup trying to fix email...</td>\n",
       "    </tr>\n",
       "  </tbody>\n",
       "</table>\n",
       "</div>"
      ],
      "text/plain": [
       "             contentId             personId  score  \\\n",
       "0 -3499919498720038879 -8845298781299428018      1   \n",
       "2 -3499919498720038879  -108842214936804958      1   \n",
       "3 -3499919498720038879 -1443636648652872475      1   \n",
       "6 -3499919498720038879 -8020832670974472349      1   \n",
       "8 -3499919498720038879 -9009798162809551896      2   \n",
       "\n",
       "                                           title  \\\n",
       "0  Hiri wants to fix the workplace email problem   \n",
       "2  Hiri wants to fix the workplace email problem   \n",
       "3  Hiri wants to fix the workplace email problem   \n",
       "6  Hiri wants to fix the workplace email problem   \n",
       "8  Hiri wants to fix the workplace email problem   \n",
       "\n",
       "                                                text  \n",
       "0  Hiri is the latest startup trying to fix email...  \n",
       "2  Hiri is the latest startup trying to fix email...  \n",
       "3  Hiri is the latest startup trying to fix email...  \n",
       "6  Hiri is the latest startup trying to fix email...  \n",
       "8  Hiri is the latest startup trying to fix email...  "
      ]
     },
     "execution_count": 57,
     "metadata": {},
     "output_type": "execute_result"
    }
   ],
   "source": [
    "## we use combined dataframe for collaborative model\n",
    "\n",
    "df_combined.head()"
   ]
  },
  {
   "cell_type": "code",
   "execution_count": 59,
   "metadata": {},
   "outputs": [
    {
     "name": "stdout",
     "output_type": "stream",
     "text": [
      "(26193, 5)\n"
     ]
    },
    {
     "data": {
      "text/html": [
       "<div>\n",
       "<style scoped>\n",
       "    .dataframe tbody tr th:only-of-type {\n",
       "        vertical-align: middle;\n",
       "    }\n",
       "\n",
       "    .dataframe tbody tr th {\n",
       "        vertical-align: top;\n",
       "    }\n",
       "\n",
       "    .dataframe thead th {\n",
       "        text-align: right;\n",
       "    }\n",
       "</style>\n",
       "<table border=\"1\" class=\"dataframe\">\n",
       "  <thead>\n",
       "    <tr style=\"text-align: right;\">\n",
       "      <th></th>\n",
       "      <th>personId</th>\n",
       "      <th>contentId</th>\n",
       "      <th>title</th>\n",
       "      <th>text</th>\n",
       "      <th>score</th>\n",
       "    </tr>\n",
       "  </thead>\n",
       "  <tbody>\n",
       "    <tr>\n",
       "      <th>19664</th>\n",
       "      <td>3813842765808990208</td>\n",
       "      <td>-548976469460064550</td>\n",
       "      <td>Using Honcho to Create a Multi-Process Docker ...</td>\n",
       "      <td>A common misconception is that Docker is only ...</td>\n",
       "      <td>15</td>\n",
       "    </tr>\n",
       "    <tr>\n",
       "      <th>12860</th>\n",
       "      <td>-108842214936804958</td>\n",
       "      <td>-6467708104873171151</td>\n",
       "      <td>5 reasons your employees aren't sharing their ...</td>\n",
       "      <td>I rarely hear someone say ... WOW! We have so ...</td>\n",
       "      <td>15</td>\n",
       "    </tr>\n",
       "    <tr>\n",
       "      <th>25138</th>\n",
       "      <td>8437083040455072898</td>\n",
       "      <td>-8208801367848627943</td>\n",
       "      <td>Ray Kurzweil: The world isn't getting worse - ...</td>\n",
       "      <td>Ray Kurzweil, the author, inventor, computer s...</td>\n",
       "      <td>15</td>\n",
       "    </tr>\n",
       "    <tr>\n",
       "      <th>9516</th>\n",
       "      <td>-1799631734242668035</td>\n",
       "      <td>6015995473246774717</td>\n",
       "      <td>The need to lead in data and analytics</td>\n",
       "      <td>In a new survey, executives say senior-leader ...</td>\n",
       "      <td>15</td>\n",
       "    </tr>\n",
       "    <tr>\n",
       "      <th>5819</th>\n",
       "      <td>-4165818767652094649</td>\n",
       "      <td>-5997769775112032630</td>\n",
       "      <td>How bot-to-bot could soon replace APIs</td>\n",
       "      <td>By now it's clear that bots will cause a major...</td>\n",
       "      <td>15</td>\n",
       "    </tr>\n",
       "    <tr>\n",
       "      <th>16694</th>\n",
       "      <td>2416280733544962613</td>\n",
       "      <td>5930806521893160184</td>\n",
       "      <td>Five things to include in your digital transfo...</td>\n",
       "      <td>In 2011, Disney World was facing declining cus...</td>\n",
       "      <td>15</td>\n",
       "    </tr>\n",
       "    <tr>\n",
       "      <th>17763</th>\n",
       "      <td>3217014177234377440</td>\n",
       "      <td>-5784228041033890044</td>\n",
       "      <td>[E-learning] Design Thinking for Innovation - ...</td>\n",
       "      <td>About this Course Today innovation is everyone...</td>\n",
       "      <td>15</td>\n",
       "    </tr>\n",
       "    <tr>\n",
       "      <th>11241</th>\n",
       "      <td>-1032019229384696495</td>\n",
       "      <td>-8377626164558006982</td>\n",
       "      <td>Bad Writing Is Destroying Your Company's Produ...</td>\n",
       "      <td>A hidden source of friction is slowing your co...</td>\n",
       "      <td>15</td>\n",
       "    </tr>\n",
       "    <tr>\n",
       "      <th>11764</th>\n",
       "      <td>-1032019229384696495</td>\n",
       "      <td>8890720798209849691</td>\n",
       "      <td>Top 10 Intranet Trends of 2016</td>\n",
       "      <td>Summary: Hero images, carousels, fat footers, ...</td>\n",
       "      <td>15</td>\n",
       "    </tr>\n",
       "    <tr>\n",
       "      <th>5343</th>\n",
       "      <td>-4627026983118548639</td>\n",
       "      <td>-5002383425685129595</td>\n",
       "      <td>Changing change management</td>\n",
       "      <td>Research tells us that most change efforts fai...</td>\n",
       "      <td>15</td>\n",
       "    </tr>\n",
       "  </tbody>\n",
       "</table>\n",
       "</div>"
      ],
      "text/plain": [
       "                  personId            contentId  \\\n",
       "19664  3813842765808990208  -548976469460064550   \n",
       "12860  -108842214936804958 -6467708104873171151   \n",
       "25138  8437083040455072898 -8208801367848627943   \n",
       "9516  -1799631734242668035  6015995473246774717   \n",
       "5819  -4165818767652094649 -5997769775112032630   \n",
       "16694  2416280733544962613  5930806521893160184   \n",
       "17763  3217014177234377440 -5784228041033890044   \n",
       "11241 -1032019229384696495 -8377626164558006982   \n",
       "11764 -1032019229384696495  8890720798209849691   \n",
       "5343  -4627026983118548639 -5002383425685129595   \n",
       "\n",
       "                                                   title  \\\n",
       "19664  Using Honcho to Create a Multi-Process Docker ...   \n",
       "12860  5 reasons your employees aren't sharing their ...   \n",
       "25138  Ray Kurzweil: The world isn't getting worse - ...   \n",
       "9516              The need to lead in data and analytics   \n",
       "5819              How bot-to-bot could soon replace APIs   \n",
       "16694  Five things to include in your digital transfo...   \n",
       "17763  [E-learning] Design Thinking for Innovation - ...   \n",
       "11241  Bad Writing Is Destroying Your Company's Produ...   \n",
       "11764                     Top 10 Intranet Trends of 2016   \n",
       "5343                          Changing change management   \n",
       "\n",
       "                                                    text  score  \n",
       "19664  A common misconception is that Docker is only ...     15  \n",
       "12860  I rarely hear someone say ... WOW! We have so ...     15  \n",
       "25138  Ray Kurzweil, the author, inventor, computer s...     15  \n",
       "9516   In a new survey, executives say senior-leader ...     15  \n",
       "5819   By now it's clear that bots will cause a major...     15  \n",
       "16694  In 2011, Disney World was facing declining cus...     15  \n",
       "17763  About this Course Today innovation is everyone...     15  \n",
       "11241  A hidden source of friction is slowing your co...     15  \n",
       "11764  Summary: Hero images, carousels, fat footers, ...     15  \n",
       "5343   Research tells us that most change efforts fai...     15  "
      ]
     },
     "execution_count": 59,
     "metadata": {},
     "output_type": "execute_result"
    }
   ],
   "source": [
    "## create a new dataframe and calculate the sum of all interaction of the users for each article\n",
    "\n",
    "df_svd=df_combined.groupby(['personId', 'contentId', 'title', 'text']).sum().reset_index()\n",
    "print(df_svd.shape)\n",
    "df_svd.sort_values('score', ascending=False).head(10)"
   ]
  },
  {
   "cell_type": "markdown",
   "metadata": {},
   "source": [
    "**To compare similar users based on interaction pattern, we use singular value decomposition (SVD) method, which is a factorization of a real or complex matrix.**"
   ]
  },
  {
   "cell_type": "code",
   "execution_count": 60,
   "metadata": {},
   "outputs": [
    {
     "name": "stdout",
     "output_type": "stream",
     "text": [
      "Evaluating RMSE, MAE of algorithm SVD on 5 split(s).\n",
      "\n",
      "                  Fold 1  Fold 2  Fold 3  Fold 4  Fold 5  Mean    Std     \n",
      "MAE (testset)     1.0465  1.0701  1.0301  1.0713  1.0209  1.0478  0.0205  \n",
      "RMSE (testset)    1.8719  1.9109  1.7939  1.9354  1.8359  1.8696  0.0508  \n",
      "Fit time          1.83    1.45    1.51    1.50    1.48    1.55    0.14    \n",
      "Test time         0.10    0.06    0.06    0.05    0.40    0.13    0.14    \n"
     ]
    },
    {
     "data": {
      "text/plain": [
       "{'fit_time': (1.828010082244873,\n",
       "  1.4509170055389404,\n",
       "  1.5108709335327148,\n",
       "  1.498999834060669,\n",
       "  1.4803252220153809),\n",
       " 'test_mae': array([1.0464602 , 1.07014105, 1.0301041 , 1.07129259, 1.02086808]),\n",
       " 'test_rmse': array([1.87193951, 1.91087122, 1.79390145, 1.93538651, 1.83589692]),\n",
       " 'test_time': (0.09617996215820312,\n",
       "  0.05749797821044922,\n",
       "  0.06062793731689453,\n",
       "  0.05304908752441406,\n",
       "  0.4044039249420166)}"
      ]
     },
     "execution_count": 60,
     "metadata": {},
     "output_type": "execute_result"
    }
   ],
   "source": [
    "## import svd\n",
    "svd=SVD()\n",
    "\n",
    "## set up reader for rating range\n",
    "reader = Reader(rating_scale=(1, 15))\n",
    "\n",
    "## load data from dataframe\n",
    "data = Dataset.load_from_df(df_svd[['personId', 'contentId', 'score']], reader)\n",
    "\n",
    "## 5 fold cross validation measuring in Root mean squared error (RMSE) and Mean Absolute Error (MAE)\n",
    "cross_validate(svd, data, measures=['RMSE', 'MAE'], cv=5, verbose=True)"
   ]
  },
  {
   "cell_type": "markdown",
   "metadata": {},
   "source": [
    "Sicne both MAE and RMSE are measuring the error in unit of variable, the result is relatively good given the rating range is between 1 to 15. \n",
    "\n",
    "We can use build in function to see the prediction for specific user and aritcile"
   ]
  },
  {
   "cell_type": "code",
   "execution_count": 61,
   "metadata": {},
   "outputs": [
    {
     "data": {
      "text/html": [
       "<div>\n",
       "<style scoped>\n",
       "    .dataframe tbody tr th:only-of-type {\n",
       "        vertical-align: middle;\n",
       "    }\n",
       "\n",
       "    .dataframe tbody tr th {\n",
       "        vertical-align: top;\n",
       "    }\n",
       "\n",
       "    .dataframe thead th {\n",
       "        text-align: right;\n",
       "    }\n",
       "</style>\n",
       "<table border=\"1\" class=\"dataframe\">\n",
       "  <thead>\n",
       "    <tr style=\"text-align: right;\">\n",
       "      <th></th>\n",
       "      <th>personId</th>\n",
       "      <th>contentId</th>\n",
       "      <th>title</th>\n",
       "      <th>text</th>\n",
       "      <th>score</th>\n",
       "    </tr>\n",
       "  </thead>\n",
       "  <tbody>\n",
       "    <tr>\n",
       "      <th>11892</th>\n",
       "      <td>-709287718034731589</td>\n",
       "      <td>-9189659052158407108</td>\n",
       "      <td>Eddy Cue and Craig Federighi Open Up About Lea...</td>\n",
       "      <td>Fast Company : Let's start talking about Maps....</td>\n",
       "      <td>1</td>\n",
       "    </tr>\n",
       "    <tr>\n",
       "      <th>11893</th>\n",
       "      <td>-709287718034731589</td>\n",
       "      <td>-9055044275358686874</td>\n",
       "      <td>Accept questions from your audience when prese...</td>\n",
       "      <td>Any skilled presenter knows that an interactiv...</td>\n",
       "      <td>3</td>\n",
       "    </tr>\n",
       "    <tr>\n",
       "      <th>11894</th>\n",
       "      <td>-709287718034731589</td>\n",
       "      <td>-9050450867630628092</td>\n",
       "      <td>Apple's secret strategy: Underpromise and over...</td>\n",
       "      <td>Why the critics are wrong who think Apple's lo...</td>\n",
       "      <td>1</td>\n",
       "    </tr>\n",
       "    <tr>\n",
       "      <th>11895</th>\n",
       "      <td>-709287718034731589</td>\n",
       "      <td>-9045753673721269477</td>\n",
       "      <td>BIG BRAND REDEMPTION | New free Trend Briefing...</td>\n",
       "      <td>The idea that all big brands are causing massi...</td>\n",
       "      <td>10</td>\n",
       "    </tr>\n",
       "    <tr>\n",
       "      <th>11896</th>\n",
       "      <td>-709287718034731589</td>\n",
       "      <td>-9002191823887486987</td>\n",
       "      <td>Is the Chatbot Trend One Big Misunderstanding?</td>\n",
       "      <td>Is the Chatbot Trend One Big Misunderstanding?...</td>\n",
       "      <td>3</td>\n",
       "    </tr>\n",
       "  </tbody>\n",
       "</table>\n",
       "</div>"
      ],
      "text/plain": [
       "                 personId            contentId  \\\n",
       "11892 -709287718034731589 -9189659052158407108   \n",
       "11893 -709287718034731589 -9055044275358686874   \n",
       "11894 -709287718034731589 -9050450867630628092   \n",
       "11895 -709287718034731589 -9045753673721269477   \n",
       "11896 -709287718034731589 -9002191823887486987   \n",
       "\n",
       "                                                   title  \\\n",
       "11892  Eddy Cue and Craig Federighi Open Up About Lea...   \n",
       "11893  Accept questions from your audience when prese...   \n",
       "11894  Apple's secret strategy: Underpromise and over...   \n",
       "11895  BIG BRAND REDEMPTION | New free Trend Briefing...   \n",
       "11896     Is the Chatbot Trend One Big Misunderstanding?   \n",
       "\n",
       "                                                    text  score  \n",
       "11892  Fast Company : Let's start talking about Maps....      1  \n",
       "11893  Any skilled presenter knows that an interactiv...      3  \n",
       "11894  Why the critics are wrong who think Apple's lo...      1  \n",
       "11895  The idea that all big brands are causing massi...     10  \n",
       "11896  Is the Chatbot Trend One Big Misunderstanding?...      3  "
      ]
     },
     "execution_count": 61,
     "metadata": {},
     "output_type": "execute_result"
    }
   ],
   "source": [
    "## pick a user\n",
    "df_svd[df_svd['personId']==-709287718034731589].head()"
   ]
  },
  {
   "cell_type": "code",
   "execution_count": 62,
   "metadata": {},
   "outputs": [
    {
     "name": "stdout",
     "output_type": "stream",
     "text": [
      "user: -709287718034731589 item: -9055044275358686874 r_ui = 3.00   est = 2.92   {'was_impossible': False}\n"
     ]
    }
   ],
   "source": [
    "## user id\n",
    "uid = -709287718034731589\n",
    "\n",
    "## article id\n",
    "iid = -9055044275358686874\n",
    "\n",
    "## get a prediction for it\n",
    "pred=svd.predict(uid, iid, r_ui=3, verbose=True)"
   ]
  },
  {
   "cell_type": "markdown",
   "metadata": {},
   "source": [
    "r_ui here refers to the actual rating user gives to this article and est refers to the prediction. \n",
    "\n",
    "It seems like collaborative model works really well in terms of prediction. Next, we split the dataset for specific user where train set is all other users plus half articles of that specific user and test set is the other half articles of that specific user. "
   ]
  },
  {
   "cell_type": "code",
   "execution_count": 77,
   "metadata": {},
   "outputs": [
    {
     "data": {
      "text/html": [
       "<div>\n",
       "<style scoped>\n",
       "    .dataframe tbody tr th:only-of-type {\n",
       "        vertical-align: middle;\n",
       "    }\n",
       "\n",
       "    .dataframe tbody tr th {\n",
       "        vertical-align: top;\n",
       "    }\n",
       "\n",
       "    .dataframe thead th {\n",
       "        text-align: right;\n",
       "    }\n",
       "</style>\n",
       "<table border=\"1\" class=\"dataframe\">\n",
       "  <thead>\n",
       "    <tr style=\"text-align: right;\">\n",
       "      <th></th>\n",
       "      <th>personId</th>\n",
       "      <th>contentId</th>\n",
       "      <th>title</th>\n",
       "      <th>text</th>\n",
       "      <th>score</th>\n",
       "    </tr>\n",
       "  </thead>\n",
       "  <tbody>\n",
       "    <tr>\n",
       "      <th>722</th>\n",
       "      <td>-8853658195208337106</td>\n",
       "      <td>-5879360586463363298</td>\n",
       "      <td>Introducing LambCI - a serverless build system</td>\n",
       "      <td>Introducing LambCI - a serverless build system...</td>\n",
       "      <td>10</td>\n",
       "    </tr>\n",
       "    <tr>\n",
       "      <th>782</th>\n",
       "      <td>-8853658195208337106</td>\n",
       "      <td>7506614456429888492</td>\n",
       "      <td>Assessing Salesforce's platform and ecosystem ...</td>\n",
       "      <td>Coming out of of the crush and excitement of D...</td>\n",
       "      <td>10</td>\n",
       "    </tr>\n",
       "    <tr>\n",
       "      <th>732</th>\n",
       "      <td>-8853658195208337106</td>\n",
       "      <td>-3780822597455574960</td>\n",
       "      <td>Top Programming Languages Trends: The Rise of ...</td>\n",
       "      <td>Illustration: Grzegorz Knec/Alamy Now that IEE...</td>\n",
       "      <td>10</td>\n",
       "    </tr>\n",
       "    <tr>\n",
       "      <th>751</th>\n",
       "      <td>-8853658195208337106</td>\n",
       "      <td>-14569272361926584</td>\n",
       "      <td>Java 8 Streams - A Deeper Approach About Perfo...</td>\n",
       "      <td>Introduction Java 8 was released almost three ...</td>\n",
       "      <td>10</td>\n",
       "    </tr>\n",
       "    <tr>\n",
       "      <th>730</th>\n",
       "      <td>-8853658195208337106</td>\n",
       "      <td>-4132331404553626868</td>\n",
       "      <td>Gartner Reprint</td>\n",
       "      <td>Gartner redesigned the Magic Quadrant for BI a...</td>\n",
       "      <td>10</td>\n",
       "    </tr>\n",
       "  </tbody>\n",
       "</table>\n",
       "</div>"
      ],
      "text/plain": [
       "                personId            contentId  \\\n",
       "722 -8853658195208337106 -5879360586463363298   \n",
       "782 -8853658195208337106  7506614456429888492   \n",
       "732 -8853658195208337106 -3780822597455574960   \n",
       "751 -8853658195208337106   -14569272361926584   \n",
       "730 -8853658195208337106 -4132331404553626868   \n",
       "\n",
       "                                                 title  \\\n",
       "722     Introducing LambCI - a serverless build system   \n",
       "782  Assessing Salesforce's platform and ecosystem ...   \n",
       "732  Top Programming Languages Trends: The Rise of ...   \n",
       "751  Java 8 Streams - A Deeper Approach About Perfo...   \n",
       "730                                    Gartner Reprint   \n",
       "\n",
       "                                                  text  score  \n",
       "722  Introducing LambCI - a serverless build system...     10  \n",
       "782  Coming out of of the crush and excitement of D...     10  \n",
       "732  Illustration: Grzegorz Knec/Alamy Now that IEE...     10  \n",
       "751  Introduction Java 8 was released almost three ...     10  \n",
       "730  Gartner redesigned the Magic Quadrant for BI a...     10  "
      ]
     },
     "execution_count": 77,
     "metadata": {},
     "output_type": "execute_result"
    }
   ],
   "source": [
    "## random select a user\n",
    "random_select=df_svd['personId'].sample(n=1, random_state=9)\n",
    "\n",
    "## select its data \n",
    "random_select=random_select.tolist()\n",
    "df_sample=df_svd[df_svd['personId']==random_select].sort_values('score', ascending=False)\n",
    "df_sample.head()"
   ]
  },
  {
   "cell_type": "code",
   "execution_count": 79,
   "metadata": {},
   "outputs": [],
   "source": [
    "## split train and test with test ratio equal to 0.2\n",
    "sample=df_sample.sample(frac=0.2, random_state=2)\n",
    "sample_list=sample.index.tolist()\n",
    "df_notsample=df_svd.copy()\n",
    "\n",
    "## build train data by dropping test data from the whole dataframe\n",
    "df_notsample.drop(sample_list, inplace=True)"
   ]
  },
  {
   "cell_type": "code",
   "execution_count": 80,
   "metadata": {},
   "outputs": [],
   "source": [
    "## set up reader \n",
    "reader = Reader(rating_scale=(1, 15))\n",
    "\n",
    "## load train data\n",
    "train_data = Dataset.load_from_df(df_notsample[['personId', 'contentId', 'score']], reader)\n",
    "\n",
    "## load test data\n",
    "test_data = Dataset.load_from_df(sample[['personId', 'contentId', 'score']], reader)"
   ]
  },
  {
   "cell_type": "code",
   "execution_count": 81,
   "metadata": {
    "scrolled": true
   },
   "outputs": [],
   "source": [
    "## build trainset\n",
    "trainset = train_data.build_full_trainset()\n",
    "\n",
    "## build testset\n",
    "testset= test_data.build_full_trainset()\n",
    "testset=testset.build_testset()"
   ]
  },
  {
   "cell_type": "code",
   "execution_count": 82,
   "metadata": {},
   "outputs": [
    {
     "data": {
      "text/html": [
       "<div>\n",
       "<style scoped>\n",
       "    .dataframe tbody tr th:only-of-type {\n",
       "        vertical-align: middle;\n",
       "    }\n",
       "\n",
       "    .dataframe tbody tr th {\n",
       "        vertical-align: top;\n",
       "    }\n",
       "\n",
       "    .dataframe thead th {\n",
       "        text-align: right;\n",
       "    }\n",
       "</style>\n",
       "<table border=\"1\" class=\"dataframe\">\n",
       "  <thead>\n",
       "    <tr style=\"text-align: right;\">\n",
       "      <th></th>\n",
       "      <th>uid</th>\n",
       "      <th>iid</th>\n",
       "      <th>r_ui</th>\n",
       "      <th>est</th>\n",
       "      <th>details</th>\n",
       "    </tr>\n",
       "  </thead>\n",
       "  <tbody>\n",
       "    <tr>\n",
       "      <th>7</th>\n",
       "      <td>-8853658195208337106</td>\n",
       "      <td>-1876558460087500339</td>\n",
       "      <td>1.0</td>\n",
       "      <td>3.500457</td>\n",
       "      <td>{'was_impossible': False}</td>\n",
       "    </tr>\n",
       "    <tr>\n",
       "      <th>2</th>\n",
       "      <td>-8853658195208337106</td>\n",
       "      <td>8483892789913825147</td>\n",
       "      <td>1.0</td>\n",
       "      <td>2.823233</td>\n",
       "      <td>{'was_impossible': False}</td>\n",
       "    </tr>\n",
       "    <tr>\n",
       "      <th>14</th>\n",
       "      <td>-8853658195208337106</td>\n",
       "      <td>-3678789633202302491</td>\n",
       "      <td>1.0</td>\n",
       "      <td>2.553679</td>\n",
       "      <td>{'was_impossible': False}</td>\n",
       "    </tr>\n",
       "    <tr>\n",
       "      <th>15</th>\n",
       "      <td>-8853658195208337106</td>\n",
       "      <td>31349081826574004</td>\n",
       "      <td>1.0</td>\n",
       "      <td>2.392274</td>\n",
       "      <td>{'was_impossible': False}</td>\n",
       "    </tr>\n",
       "    <tr>\n",
       "      <th>13</th>\n",
       "      <td>-8853658195208337106</td>\n",
       "      <td>-3058031327323357308</td>\n",
       "      <td>3.0</td>\n",
       "      <td>2.362585</td>\n",
       "      <td>{'was_impossible': False}</td>\n",
       "    </tr>\n",
       "    <tr>\n",
       "      <th>1</th>\n",
       "      <td>-8853658195208337106</td>\n",
       "      <td>8115033558441775155</td>\n",
       "      <td>1.0</td>\n",
       "      <td>2.305497</td>\n",
       "      <td>{'was_impossible': False}</td>\n",
       "    </tr>\n",
       "    <tr>\n",
       "      <th>3</th>\n",
       "      <td>-8853658195208337106</td>\n",
       "      <td>-8954346068661072425</td>\n",
       "      <td>1.0</td>\n",
       "      <td>2.256886</td>\n",
       "      <td>{'was_impossible': False}</td>\n",
       "    </tr>\n",
       "    <tr>\n",
       "      <th>8</th>\n",
       "      <td>-8853658195208337106</td>\n",
       "      <td>428486625959995206</td>\n",
       "      <td>1.0</td>\n",
       "      <td>1.994041</td>\n",
       "      <td>{'was_impossible': False}</td>\n",
       "    </tr>\n",
       "    <tr>\n",
       "      <th>9</th>\n",
       "      <td>-8853658195208337106</td>\n",
       "      <td>-1022885988494278200</td>\n",
       "      <td>3.0</td>\n",
       "      <td>1.925689</td>\n",
       "      <td>{'was_impossible': False}</td>\n",
       "    </tr>\n",
       "    <tr>\n",
       "      <th>11</th>\n",
       "      <td>-8853658195208337106</td>\n",
       "      <td>6062146090334604102</td>\n",
       "      <td>1.0</td>\n",
       "      <td>1.762617</td>\n",
       "      <td>{'was_impossible': False}</td>\n",
       "    </tr>\n",
       "    <tr>\n",
       "      <th>0</th>\n",
       "      <td>-8853658195208337106</td>\n",
       "      <td>2551517430254715046</td>\n",
       "      <td>1.0</td>\n",
       "      <td>1.645312</td>\n",
       "      <td>{'was_impossible': False}</td>\n",
       "    </tr>\n",
       "    <tr>\n",
       "      <th>12</th>\n",
       "      <td>-8853658195208337106</td>\n",
       "      <td>-8278375716950339547</td>\n",
       "      <td>1.0</td>\n",
       "      <td>1.552116</td>\n",
       "      <td>{'was_impossible': False}</td>\n",
       "    </tr>\n",
       "    <tr>\n",
       "      <th>5</th>\n",
       "      <td>-8853658195208337106</td>\n",
       "      <td>-7722236679806608274</td>\n",
       "      <td>1.0</td>\n",
       "      <td>1.530387</td>\n",
       "      <td>{'was_impossible': False}</td>\n",
       "    </tr>\n",
       "    <tr>\n",
       "      <th>10</th>\n",
       "      <td>-8853658195208337106</td>\n",
       "      <td>2867605706298498445</td>\n",
       "      <td>1.0</td>\n",
       "      <td>1.177551</td>\n",
       "      <td>{'was_impossible': False}</td>\n",
       "    </tr>\n",
       "    <tr>\n",
       "      <th>6</th>\n",
       "      <td>-8853658195208337106</td>\n",
       "      <td>4577451034168098359</td>\n",
       "      <td>1.0</td>\n",
       "      <td>1.097837</td>\n",
       "      <td>{'was_impossible': False}</td>\n",
       "    </tr>\n",
       "    <tr>\n",
       "      <th>4</th>\n",
       "      <td>-8853658195208337106</td>\n",
       "      <td>-816352740763488513</td>\n",
       "      <td>1.0</td>\n",
       "      <td>1.053779</td>\n",
       "      <td>{'was_impossible': False}</td>\n",
       "    </tr>\n",
       "  </tbody>\n",
       "</table>\n",
       "</div>"
      ],
      "text/plain": [
       "                    uid                  iid  r_ui       est  \\\n",
       "7  -8853658195208337106 -1876558460087500339   1.0  3.500457   \n",
       "2  -8853658195208337106  8483892789913825147   1.0  2.823233   \n",
       "14 -8853658195208337106 -3678789633202302491   1.0  2.553679   \n",
       "15 -8853658195208337106    31349081826574004   1.0  2.392274   \n",
       "13 -8853658195208337106 -3058031327323357308   3.0  2.362585   \n",
       "1  -8853658195208337106  8115033558441775155   1.0  2.305497   \n",
       "3  -8853658195208337106 -8954346068661072425   1.0  2.256886   \n",
       "8  -8853658195208337106   428486625959995206   1.0  1.994041   \n",
       "9  -8853658195208337106 -1022885988494278200   3.0  1.925689   \n",
       "11 -8853658195208337106  6062146090334604102   1.0  1.762617   \n",
       "0  -8853658195208337106  2551517430254715046   1.0  1.645312   \n",
       "12 -8853658195208337106 -8278375716950339547   1.0  1.552116   \n",
       "5  -8853658195208337106 -7722236679806608274   1.0  1.530387   \n",
       "10 -8853658195208337106  2867605706298498445   1.0  1.177551   \n",
       "6  -8853658195208337106  4577451034168098359   1.0  1.097837   \n",
       "4  -8853658195208337106  -816352740763488513   1.0  1.053779   \n",
       "\n",
       "                      details  \n",
       "7   {'was_impossible': False}  \n",
       "2   {'was_impossible': False}  \n",
       "14  {'was_impossible': False}  \n",
       "15  {'was_impossible': False}  \n",
       "13  {'was_impossible': False}  \n",
       "1   {'was_impossible': False}  \n",
       "3   {'was_impossible': False}  \n",
       "8   {'was_impossible': False}  \n",
       "9   {'was_impossible': False}  \n",
       "11  {'was_impossible': False}  \n",
       "0   {'was_impossible': False}  \n",
       "12  {'was_impossible': False}  \n",
       "5   {'was_impossible': False}  \n",
       "10  {'was_impossible': False}  \n",
       "6   {'was_impossible': False}  \n",
       "4   {'was_impossible': False}  "
      ]
     },
     "execution_count": 82,
     "metadata": {},
     "output_type": "execute_result"
    }
   ],
   "source": [
    "## load SVD\n",
    "svd=SVD()\n",
    "\n",
    "## fit trainset\n",
    "svd.fit(trainset)\n",
    "\n",
    "## predict testset \n",
    "sample_prediction=svd.test(testset)\n",
    "\n",
    "## convert prediction into dataframe and sort by value\n",
    "df_sample_prediction=pd.DataFrame(sample_prediction)\n",
    "df_sample_prediction.sort_values('est', ascending=False)"
   ]
  },
  {
   "cell_type": "markdown",
   "metadata": {},
   "source": [
    "The prediction above is quite different from its actual rating. This is because SVD used regression rather than claasification in this case and our range is from 1 to 15, which makes the model even more complex than normal model. \n",
    "\n",
    "Another cause is cold start problem of collaborative model when there is not enough information about the user to make prediction. \n",
    "\n",
    "Althouhg the prediction for score of SVD is not very accurate for individual user, we can use alternative evaluation method to see how accurate our model is. For recommender system, we care about the rank more than predicted score. Therefore, we can use precision and recall at K to measure how accurate our recommendation in terms of ranking. "
   ]
  },
  {
   "cell_type": "markdown",
   "metadata": {},
   "source": [
    "### Precision and Recall @ k function from Surprise Package FAQ\n",
    "\n",
    "Precision at k is the proportion of recommended items in the top-k set that are relevant\n",
    "\n",
    "Recall at k is the proportion of relevant items found in the top-k recommendations\n",
    "\n",
    "Here the relevant refers to the minimum score of our recommendation. For our model, we use threshold score equal to 3.\n",
    "\n",
    "For more information. please check https://surprise.readthedocs.io/en/stable/FAQ.html"
   ]
  },
  {
   "cell_type": "code",
   "execution_count": 83,
   "metadata": {},
   "outputs": [],
   "source": [
    "from collections import defaultdict\n",
    "\n",
    "## define a function to calculate precision and recall\n",
    "def precision_recall_at_k(predictions, k=5, threshold=3):\n",
    "    '''Return precision and recall at k metrics for each user.'''\n",
    "\n",
    "    # First map the predictions to each user.\n",
    "    user_est_true = defaultdict(list)\n",
    "    for uid, _, true_r, est, _ in predictions:\n",
    "        user_est_true[uid].append((est, true_r))\n",
    "\n",
    "    precisions = dict()\n",
    "    recalls = dict()\n",
    "    for uid, user_ratings in user_est_true.items():\n",
    "\n",
    "        # Sort user ratings by estimated value\n",
    "        user_ratings.sort(key=lambda x: x[0], reverse=True)\n",
    "\n",
    "        # Number of relevant items\n",
    "        n_rel = sum((true_r >= threshold) for (_, true_r) in user_ratings)\n",
    "\n",
    "        # Number of recommended items in top k\n",
    "        n_rec_k = sum((est >= threshold) for (est, _) in user_ratings[:k])\n",
    "\n",
    "        # Number of relevant and recommended items in top k\n",
    "        n_rel_and_rec_k = sum(((true_r >= threshold) and (est >= threshold))\n",
    "                              for (est, true_r) in user_ratings[:k])\n",
    "\n",
    "        # Precision@K: Proportion of recommended items that are relevant\n",
    "        precisions[uid] = n_rel_and_rec_k / n_rec_k if n_rec_k != 0 else 1\n",
    "\n",
    "        # Recall@K: Proportion of relevant items that are recommended\n",
    "        recalls[uid] = n_rel_and_rec_k / n_rel if n_rel != 0 else 1\n",
    "\n",
    "    return precisions, recalls"
   ]
  },
  {
   "cell_type": "code",
   "execution_count": 86,
   "metadata": {
    "scrolled": true
   },
   "outputs": [
    {
     "name": "stdout",
     "output_type": "stream",
     "text": [
      "precisions:  0.938424543946932\n",
      "recalls:  0.689841482906078\n"
     ]
    }
   ],
   "source": [
    "## train test split \n",
    "from surprise.model_selection import train_test_split\n",
    "trainset, testset = train_test_split(data, test_size=.2)\n",
    "\n",
    "## fit trainset\n",
    "svd.fit(trainset)\n",
    "\n",
    "## prediction\n",
    "predictions = svd.test(testset)\n",
    "\n",
    "## load precision and recall function\n",
    "precisions, recalls = precision_recall_at_k(predictions, k=5, threshold=3)\n",
    "\n",
    "## Precision and recall of averaged over all users\n",
    "print('precisions: ', sum(prec for prec in precisions.values()) / len(precisions))\n",
    "print('recalls: ', sum(rec for rec in recalls.values()) / len(recalls))"
   ]
  },
  {
   "cell_type": "markdown",
   "metadata": {},
   "source": [
    "For collaborative model, we have 93.8% precision at 5, which is 93.8% of recommended items in the top 5 that are relevant. \n",
    "\n",
    "Recall at 5 is 69% of relevant items found in the top 5 recommendations. \n",
    "\n",
    "\n",
    "Therefore, when there is enough information about user, collaborative model is relatively accurate in terms of ranking of recommended articles. "
   ]
  },
  {
   "cell_type": "markdown",
   "metadata": {},
   "source": [
    "--------"
   ]
  },
  {
   "cell_type": "markdown",
   "metadata": {},
   "source": [
    "## Hybrid Model\n",
    "\n",
    "For hybrid model, we simple combine the features of content based model and collaborative model. Specifically, we use cosine similarity in content based model to replace the threshold of rating in collaborative model, then sort it based on the rank of collaborative model. "
   ]
  },
  {
   "cell_type": "code",
   "execution_count": 91,
   "metadata": {},
   "outputs": [],
   "source": [
    "def hybrid_model(user, title):\n",
    "    '''Recommend unseen article based on cosine simialrity(content based) and \n",
    "    rank the top 10 based on SVD predicted socre(collaborative based)'''\n",
    "    \n",
    "    ## get the content ID of particular article\n",
    "    number=df_score[df_score['title']==title].index.values\n",
    "    \n",
    "    ## get its cosine similarity with all article, create a data frame for it\n",
    "    df_hybrid=df_similarity.iloc[:, number].reset_index()\n",
    "    df_hybrid['contentId']=df_score['contentId']\n",
    "    df_hybrid.columns=['title', 'similarity', 'contentId']\n",
    "    \n",
    "    ## sort the cosine similarity and get the top 20 (21 including the cosine similarity of itself)\n",
    "    df_hybrid=df_hybrid.sort_values('similarity',ascending=False).head(21)\n",
    "    \n",
    "    ## save the content ID of top 20 into a list\n",
    "    content=df_hybrid['contentId'].tolist()\n",
    "    \n",
    "    ## take out article user already view \n",
    "    viewed_list=df_svd[df_svd['personId']==user].contentId.values.tolist()\n",
    "    content_list=list(set(content)-set(viewed_list))\n",
    "    \n",
    "    ## get the SVD predicted score from collaborative model\n",
    "    predict=[]\n",
    "    for i in content_list:\n",
    "        result=svd.predict(user, i, verbose=False)\n",
    "        predict.append(result)\n",
    "    \n",
    "    ## save the result into a data frame\n",
    "    df_predict=pd.DataFrame(predict, columns=('personId', 'contentId', 'r_ui', 'predict', 'detail'))\n",
    "    df_predict.drop(['r_ui', 'detail', 'personId'], axis=1, inplace=True)\n",
    "    \n",
    "    ## merge cosine similarity data frame and predicted score data frame\n",
    "    df_hybrid=pd.merge(df_hybrid, df_predict, how='left', left_on='contentId', right_on='contentId')\n",
    "    \n",
    "    ## rank the recommendation result based on predicted score\n",
    "    df_hybrid=df_hybrid.sort_values('predict', ascending=False)\n",
    "    \n",
    "    ## drop out input article (cosine similarity equal to 1)\n",
    "    df_hybrid.drop(0, inplace=True)\n",
    "       \n",
    "    ## return top 10 recommendation\n",
    "    return df_hybrid.head(10)"
   ]
  },
  {
   "cell_type": "code",
   "execution_count": 92,
   "metadata": {},
   "outputs": [
    {
     "data": {
      "text/html": [
       "<div>\n",
       "<style scoped>\n",
       "    .dataframe tbody tr th:only-of-type {\n",
       "        vertical-align: middle;\n",
       "    }\n",
       "\n",
       "    .dataframe tbody tr th {\n",
       "        vertical-align: top;\n",
       "    }\n",
       "\n",
       "    .dataframe thead th {\n",
       "        text-align: right;\n",
       "    }\n",
       "</style>\n",
       "<table border=\"1\" class=\"dataframe\">\n",
       "  <thead>\n",
       "    <tr style=\"text-align: right;\">\n",
       "      <th></th>\n",
       "      <th>title</th>\n",
       "      <th>similarity</th>\n",
       "      <th>contentId</th>\n",
       "      <th>predict</th>\n",
       "    </tr>\n",
       "  </thead>\n",
       "  <tbody>\n",
       "    <tr>\n",
       "      <th>5</th>\n",
       "      <td>2016 will be the year of conversational commer...</td>\n",
       "      <td>0.087048</td>\n",
       "      <td>5350829677696205474</td>\n",
       "      <td>1.803845</td>\n",
       "    </tr>\n",
       "    <tr>\n",
       "      <th>20</th>\n",
       "      <td>When will AI and NLP actually turn Siri into y...</td>\n",
       "      <td>0.057654</td>\n",
       "      <td>-2516726696296387544</td>\n",
       "      <td>1.763279</td>\n",
       "    </tr>\n",
       "    <tr>\n",
       "      <th>9</th>\n",
       "      <td>My Top 9 Favorite Python Deep Learning Librari...</td>\n",
       "      <td>0.066419</td>\n",
       "      <td>784265334245910688</td>\n",
       "      <td>1.556536</td>\n",
       "    </tr>\n",
       "    <tr>\n",
       "      <th>11</th>\n",
       "      <td>Approaching (Almost) Any Machine Learning Problem</td>\n",
       "      <td>0.064039</td>\n",
       "      <td>8381798621267347902</td>\n",
       "      <td>1.442310</td>\n",
       "    </tr>\n",
       "    <tr>\n",
       "      <th>17</th>\n",
       "      <td>Introducing DeepText: Facebook's text understa...</td>\n",
       "      <td>0.059672</td>\n",
       "      <td>1118048247334038458</td>\n",
       "      <td>1.436432</td>\n",
       "    </tr>\n",
       "    <tr>\n",
       "      <th>4</th>\n",
       "      <td>Chat Smarter with Allo</td>\n",
       "      <td>0.091583</td>\n",
       "      <td>-6858665134018491791</td>\n",
       "      <td>1.392167</td>\n",
       "    </tr>\n",
       "    <tr>\n",
       "      <th>14</th>\n",
       "      <td>Google Is About to Supercharge Its TensorFlow ...</td>\n",
       "      <td>0.060788</td>\n",
       "      <td>3564394485543941353</td>\n",
       "      <td>1.388065</td>\n",
       "    </tr>\n",
       "    <tr>\n",
       "      <th>19</th>\n",
       "      <td>Why 2016 is shaping up to be the Year of the Bot</td>\n",
       "      <td>0.058251</td>\n",
       "      <td>1433393829724383645</td>\n",
       "      <td>1.356656</td>\n",
       "    </tr>\n",
       "    <tr>\n",
       "      <th>8</th>\n",
       "      <td>Baidu Research grills AI models on deep learning</td>\n",
       "      <td>0.068620</td>\n",
       "      <td>-6570327055377820618</td>\n",
       "      <td>1.297996</td>\n",
       "    </tr>\n",
       "    <tr>\n",
       "      <th>18</th>\n",
       "      <td>How Google is Remaking Itself as a \"Machine Le...</td>\n",
       "      <td>0.058868</td>\n",
       "      <td>5250363310227021277</td>\n",
       "      <td>1.279585</td>\n",
       "    </tr>\n",
       "  </tbody>\n",
       "</table>\n",
       "</div>"
      ],
      "text/plain": [
       "                                                title  similarity  \\\n",
       "5   2016 will be the year of conversational commer...    0.087048   \n",
       "20  When will AI and NLP actually turn Siri into y...    0.057654   \n",
       "9   My Top 9 Favorite Python Deep Learning Librari...    0.066419   \n",
       "11  Approaching (Almost) Any Machine Learning Problem    0.064039   \n",
       "17  Introducing DeepText: Facebook's text understa...    0.059672   \n",
       "4                              Chat Smarter with Allo    0.091583   \n",
       "14  Google Is About to Supercharge Its TensorFlow ...    0.060788   \n",
       "19   Why 2016 is shaping up to be the Year of the Bot    0.058251   \n",
       "8    Baidu Research grills AI models on deep learning    0.068620   \n",
       "18  How Google is Remaking Itself as a \"Machine Le...    0.058868   \n",
       "\n",
       "              contentId   predict  \n",
       "5   5350829677696205474  1.803845  \n",
       "20 -2516726696296387544  1.763279  \n",
       "9    784265334245910688  1.556536  \n",
       "11  8381798621267347902  1.442310  \n",
       "17  1118048247334038458  1.436432  \n",
       "4  -6858665134018491791  1.392167  \n",
       "14  3564394485543941353  1.388065  \n",
       "19  1433393829724383645  1.356656  \n",
       "8  -6570327055377820618  1.297996  \n",
       "18  5250363310227021277  1.279585  "
      ]
     },
     "execution_count": 92,
     "metadata": {},
     "output_type": "execute_result"
    }
   ],
   "source": [
    "## test hybrid model with specific user and article\n",
    "\n",
    "hybrid_model(6999578934585823267, \"Deep Learning for Chatbots, Part 1 - Introduction\")"
   ]
  },
  {
   "cell_type": "markdown",
   "metadata": {},
   "source": [
    "Now we have a more personalized recommender system that recommend articles based on similar articles and ranking from most similar users. \n",
    "\n",
    "To see how accurate the hybrid model is, we will have to use new set of data and A/B test to see how users response to our hybrid model. "
   ]
  },
  {
   "cell_type": "markdown",
   "metadata": {},
   "source": [
    "-------"
   ]
  },
  {
   "cell_type": "markdown",
   "metadata": {},
   "source": [
    "## Further explore: prediction model\n",
    "\n",
    "For business, sometimes we want to predict how popular of our new articles for users in general. Taking Netflix for example, it shifts its focus from stream platform to content creator and a good prediction model will able to test how popular of new tv series or movie before release. \n",
    "\n",
    "Here we use the content of article to predict the score using both logistic regression model and convolutional neural network to see the difference. "
   ]
  },
  {
   "cell_type": "markdown",
   "metadata": {},
   "source": [
    "### Regression model: "
   ]
  },
  {
   "cell_type": "code",
   "execution_count": 95,
   "metadata": {},
   "outputs": [],
   "source": [
    "from sklearn.model_selection import train_test_split\n",
    "\n",
    "## load data\n",
    "x=df_score.text\n",
    "y=df_score.score.astype('int')\n",
    "\n",
    "## train test split \n",
    "X_train, X_test, y_train, y_test = train_test_split(x, y, test_size=0.5, random_state=2)\n",
    "\n",
    "## fit into CountVectorizer model we used before\n",
    "vect = CountVectorizer(stop_words='english', ngram_range=(1,3)).fit(X_train)\n",
    "\n",
    "## transform train and test data\n",
    "X_train = vect.transform(X_train)\n",
    "X_test = vect.transform(X_test)"
   ]
  },
  {
   "cell_type": "code",
   "execution_count": 97,
   "metadata": {},
   "outputs": [
    {
     "name": "stdout",
     "output_type": "stream",
     "text": [
      "Mean cross-validation accuracy: 0.73\n",
      "Accuracy:  0.7246511627906976\n"
     ]
    }
   ],
   "source": [
    "from sklearn.linear_model import LogisticRegression\n",
    "from sklearn.model_selection import cross_val_score\n",
    "\n",
    "## load logistic regression\n",
    "logit=LogisticRegression()\n",
    "\n",
    "## cross validation\n",
    "scores = cross_val_score(logit, X_train, y_train, cv=5)\n",
    "print(\"Mean cross-validation accuracy: {:.2f}\".format(np.mean(scores)))\n",
    "\n",
    "## test score of logistic regression \n",
    "logit.fit(X_train, y_train)\n",
    "print('Test Accuracy: ', logit.score(X_test, y_test))"
   ]
  },
  {
   "cell_type": "markdown",
   "metadata": {},
   "source": [
    "We have test accuracy of 72% for logistic regression, which is relative good given our score is ranging from 1 to 15. \n",
    "\n",
    "Next we try convolutional neural network and see if we can improve it. "
   ]
  },
  {
   "cell_type": "markdown",
   "metadata": {},
   "source": [
    "### Convolutional Neural Network:"
   ]
  },
  {
   "cell_type": "code",
   "execution_count": 98,
   "metadata": {},
   "outputs": [],
   "source": [
    "from tensorflow.keras.utils import to_categorical\n",
    "from tensorflow.keras.optimizers import Adam\n",
    "from tensorflow.keras.models import Sequential\n",
    "from tensorflow.keras.models import Model\n",
    "from tensorflow.keras.layers import Dense\n",
    "from tensorflow.keras.layers import Flatten\n",
    "from tensorflow.keras.layers import Conv1D\n",
    "from tensorflow.keras.layers import Dropout\n",
    "from tensorflow.keras.layers import MaxPooling1D\n",
    "from tensorflow.keras.callbacks import EarlyStopping"
   ]
  },
  {
   "cell_type": "markdown",
   "metadata": {},
   "source": [
    "**Word Embeddings**\n",
    "\n",
    "Before we feed the content of article into neural network, we use word embeddings for preprocessing text data. "
   ]
  },
  {
   "cell_type": "code",
   "execution_count": 100,
   "metadata": {},
   "outputs": [],
   "source": [
    "## load data\n",
    "x=df_score.text\n",
    "y=df_score.score.astype('int')\n",
    "\n",
    "## train test split \n",
    "from sklearn.model_selection import train_test_split\n",
    "X_train, X_test, y_train, y_test = train_test_split(x, y, test_size=0.5, random_state=2)\n",
    "\n",
    "## import tokenizer\n",
    "from tensorflow.keras.preprocessing.text import Tokenizer\n",
    "tokenizer = Tokenizer(num_words=10000)\n",
    "tokenizer.fit_on_texts(X_train)\n",
    "\n",
    "## transform train and test data\n",
    "X_train = tokenizer.texts_to_sequences(X_train)\n",
    "X_test = tokenizer.texts_to_sequences(X_test)\n",
    "\n",
    "## define vocabulary size\n",
    "vocab_size = len(tokenizer.word_index) + 1"
   ]
  },
  {
   "cell_type": "code",
   "execution_count": 101,
   "metadata": {
    "scrolled": true
   },
   "outputs": [],
   "source": [
    "from tensorflow.keras.preprocessing.sequence import pad_sequences\n",
    "\n",
    "## define max length of sequences\n",
    "maxlen = 10000\n",
    "\n",
    "## padding train and test data\n",
    "X_train = pad_sequences(X_train, padding='post', maxlen=maxlen)\n",
    "X_test = pad_sequences(X_test, padding='post', maxlen=maxlen)"
   ]
  },
  {
   "cell_type": "markdown",
   "metadata": {},
   "source": [
    "**Fit into convolutional neural network with 1D layer**"
   ]
  },
  {
   "cell_type": "code",
   "execution_count": 102,
   "metadata": {},
   "outputs": [
    {
     "name": "stdout",
     "output_type": "stream",
     "text": [
      "WARNING:tensorflow:From /Users/billzhang/anaconda3/envs/python35/lib/python3.5/site-packages/tensorflow/python/ops/resource_variable_ops.py:435: colocate_with (from tensorflow.python.framework.ops) is deprecated and will be removed in a future version.\n",
      "Instructions for updating:\n",
      "Colocations handled automatically by placer.\n",
      "_________________________________________________________________\n",
      "Layer (type)                 Output Shape              Param #   \n",
      "=================================================================\n",
      "embedding (Embedding)        (None, 10000, 100)        3510800   \n",
      "_________________________________________________________________\n",
      "conv1d (Conv1D)              (None, 9996, 128)         64128     \n",
      "_________________________________________________________________\n",
      "global_max_pooling1d (Global (None, 128)               0         \n",
      "_________________________________________________________________\n",
      "dense (Dense)                (None, 64)                8256      \n",
      "_________________________________________________________________\n",
      "dense_1 (Dense)              (None, 15)                975       \n",
      "=================================================================\n",
      "Total params: 3,584,159\n",
      "Trainable params: 3,584,159\n",
      "Non-trainable params: 0\n",
      "_________________________________________________________________\n"
     ]
    }
   ],
   "source": [
    "# input_dim: the size of the vocabulary\n",
    "# output_dim: the size of the dense vector\n",
    "# input_length: the length of the sequence\n",
    "\n",
    "from tensorflow.keras import layers\n",
    "\n",
    "embedding_dim = 100\n",
    "\n",
    "model = Sequential()\n",
    "model.add(layers.Embedding(vocab_size, embedding_dim, input_length=maxlen))\n",
    "model.add(layers.Conv1D(128, 5, activation='relu'))\n",
    "model.add(layers.GlobalMaxPooling1D())\n",
    "model.add(layers.Dense(64, activation='relu'))\n",
    "model.add(layers.Dense(15, activation='sigmoid'))\n",
    "model.compile(optimizer='adam',\n",
    "              loss='sparse_categorical_crossentropy',\n",
    "              metrics=['accuracy'])\n",
    "model.summary()"
   ]
  },
  {
   "cell_type": "code",
   "execution_count": 103,
   "metadata": {},
   "outputs": [],
   "source": [
    "## setup early stop\n",
    "early_stop = EarlyStopping(monitor='val_loss', \n",
    "                           min_delta=0.0001, \n",
    "                           patience=3, \n",
    "                           mode='min', \n",
    "                           verbose=1)"
   ]
  },
  {
   "cell_type": "code",
   "execution_count": 104,
   "metadata": {},
   "outputs": [
    {
     "name": "stdout",
     "output_type": "stream",
     "text": [
      "Train on 1074 samples, validate on 1075 samples\n",
      "WARNING:tensorflow:From /Users/billzhang/anaconda3/envs/python35/lib/python3.5/site-packages/tensorflow/python/ops/math_ops.py:3066: to_int32 (from tensorflow.python.ops.math_ops) is deprecated and will be removed in a future version.\n",
      "Instructions for updating:\n",
      "Use tf.cast instead.\n",
      "WARNING:tensorflow:From /Users/billzhang/anaconda3/envs/python35/lib/python3.5/site-packages/tensorflow/python/ops/math_grad.py:102: div (from tensorflow.python.ops.math_ops) is deprecated and will be removed in a future version.\n",
      "Instructions for updating:\n",
      "Deprecated in favor of operator or tf.math.divide.\n",
      "Epoch 1/10\n",
      "1074/1074 [==============================] - 119s 111ms/sample - loss: 1.3905 - acc: 0.7291 - val_loss: 0.9091 - val_acc: 0.7423\n",
      "Epoch 2/10\n",
      "1074/1074 [==============================] - 105s 98ms/sample - loss: 0.8666 - acc: 0.7439 - val_loss: 0.8567 - val_acc: 0.7423\n",
      "Epoch 3/10\n",
      "1074/1074 [==============================] - 104s 97ms/sample - loss: 0.7898 - acc: 0.7439 - val_loss: 0.8878 - val_acc: 0.7423\n",
      "Epoch 4/10\n",
      "1074/1074 [==============================] - 107s 100ms/sample - loss: 0.6374 - acc: 0.7439 - val_loss: 0.8778 - val_acc: 0.7423\n",
      "Epoch 5/10\n",
      "1074/1074 [==============================] - 103s 96ms/sample - loss: 0.4433 - acc: 0.7439 - val_loss: 0.9708 - val_acc: 0.7423\n",
      "Epoch 00005: early stopping\n"
     ]
    },
    {
     "data": {
      "text/plain": [
       "<tensorflow.python.keras.callbacks.History at 0x1a1f21c080>"
      ]
     },
     "execution_count": 104,
     "metadata": {},
     "output_type": "execute_result"
    }
   ],
   "source": [
    "## fit model\n",
    "model.fit(X_train, y_train,\n",
    "                    epochs=10,\n",
    "                    validation_data=(X_test, y_test),\n",
    "                    batch_size=10,\n",
    "                    callbacks=[early_stop])"
   ]
  },
  {
   "cell_type": "markdown",
   "metadata": {},
   "source": [
    "**Train and test score for convolutional neural network**"
   ]
  },
  {
   "cell_type": "code",
   "execution_count": 108,
   "metadata": {},
   "outputs": [
    {
     "name": "stdout",
     "output_type": "stream",
     "text": [
      "Train Accuracy: 0.74394786\n"
     ]
    }
   ],
   "source": [
    "loss,train_score=model.evaluate(X_train, y_train, verbose=False)\n",
    "print('Train Accuracy:', train_score)"
   ]
  },
  {
   "cell_type": "code",
   "execution_count": 109,
   "metadata": {},
   "outputs": [
    {
     "name": "stdout",
     "output_type": "stream",
     "text": [
      "Test Accuracy: 0.7423256\n"
     ]
    }
   ],
   "source": [
    "loss,test_score=model.evaluate(X_test, y_test, verbose=False)\n",
    "print('Test Accuracy:', test_score)"
   ]
  },
  {
   "cell_type": "markdown",
   "metadata": {},
   "source": [
    "Now we have a test accuracy of approximately 72% for logistic regression and approximately 74% of test accuracy for neural network. We can further tuning the hyperparameter of neural network to reach higher test accuracy, but both models already have sufficient accuracy rate in this case. "
   ]
  },
  {
   "cell_type": "markdown",
   "metadata": {},
   "source": [
    "-------"
   ]
  },
  {
   "cell_type": "markdown",
   "metadata": {},
   "source": [
    "## Future improvement\n",
    "\n",
    "For future improvement, we can go back to original dataset to see if there is any feature we can add into our model. For example, there are two features we can add into model and see if it improve our model. \n",
    "\n",
    "- Author information\n",
    "- Time series data"
   ]
  },
  {
   "cell_type": "markdown",
   "metadata": {},
   "source": [
    "------"
   ]
  },
  {
   "cell_type": "markdown",
   "metadata": {},
   "source": [
    "## Conclusion \n",
    "\n",
    "For this capstone project, we examine 4 different recommender system models and two predicting models:\n",
    "- Popularity model \n",
    "- Content based model \n",
    "- Collaborative model \n",
    "- Hybrid model \n",
    "\n",
    "- logistic regression\n",
    "- neural network\n",
    "\n",
    "However, there is no perfect model for recommender system. In fact, different recommender systems can be used in different scenarios. \n",
    "\n",
    "For exmaple, if we plan to launch a new website or application, popularity could be used in front page to recommend most popular items since we do not have any user information. \n",
    "\n",
    "Content based model could be used to recommend the most similar articles at the bottom of each article.\n",
    "\n",
    "Once we have more information about user, hybrid model could be used to make personalized recommendation, which also could be used in newsletter and email marketing.\n",
    "\n",
    "Eventually, for quality control and content creating purposes, we can use neural network to test how popular of new items for our users in general. "
   ]
  }
 ],
 "metadata": {
  "kernelspec": {
   "display_name": "Python 3",
   "language": "python",
   "name": "python3"
  },
  "language_info": {
   "codemirror_mode": {
    "name": "ipython",
    "version": 3
   },
   "file_extension": ".py",
   "mimetype": "text/x-python",
   "name": "python",
   "nbconvert_exporter": "python",
   "pygments_lexer": "ipython3",
   "version": "3.5.4"
  }
 },
 "nbformat": 4,
 "nbformat_minor": 2
}
